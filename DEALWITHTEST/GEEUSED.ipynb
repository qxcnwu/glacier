{
 "nbformat": 4,
 "nbformat_minor": 0,
 "metadata": {
  "accelerator": "GPU",
  "colab": {
   "name": "GEEUSED.ipynb",
   "provenance": [],
   "collapsed_sections": [],
   "authorship_tag": "ABX9TyNG1fCtr28eHlgqs3i3Gs8B"
  },
  "kernelspec": {
   "display_name": "Python 3",
   "name": "python3"
  },
  "language_info": {
   "name": "python"
  }
 },
 "cells": [
  {
   "cell_type": "code",
   "metadata": {
    "id": "AjxeBl2NqseA"
   },
   "source": [
    "from google.colab import auth\n",
    "auth.authenticate_user()"
   ],
   "execution_count": null,
   "outputs": []
  },
  {
   "cell_type": "code",
   "metadata": {
    "colab": {
     "base_uri": "https://localhost:8080/"
    },
    "id": "s1HjA8i0qtJU",
    "executionInfo": {
     "elapsed": 30241,
     "status": "ok",
     "timestamp": 1624112413791,
     "user": {
      "displayName": "邱星晨",
      "photoUrl": "",
      "userId": "14365470316012692039"
     },
     "user_tz": -480
    },
    "outputId": "d86a202f-9c56-411a-a2b1-7e078ba460f1"
   },
   "source": [
    "import ee\n",
    "ee.Authenticate()\n",
    "ee.Initialize()"
   ],
   "execution_count": null,
   "outputs": [
    {
     "output_type": "stream",
     "text": [
      "To authorize access needed by Earth Engine, open the following URL in a web browser and follow the instructions. If the web browser does not start automatically, please manually browse the URL below.\n",
      "\n",
      "    https://accounts.google.com/o/oauth2/auth?client_id=517222506229-vsmmajv00ul0bs7p89v5m89qs8eb9359.apps.googleusercontent.com&scope=https%3A%2F%2Fwww.googleapis.com%2Fauth%2Fearthengine+https%3A%2F%2Fwww.googleapis.com%2Fauth%2Fdevstorage.full_control&redirect_uri=urn%3Aietf%3Awg%3Aoauth%3A2.0%3Aoob&response_type=code&code_challenge=1eFtDy2OCElZDXZLRYuM0DnQO31NEAk9q4kpQUsj1bk&code_challenge_method=S256\n",
      "\n",
      "The authorization workflow will generate a code, which you should paste in the box below. \n",
      "Enter verification code: 4/1AY0e-g5InJQG-VpuzguKqLX7j_2X99MoF_x4PvBXmumf-hV4kb7TkbxWWgI\n",
      "\n",
      "Successfully saved authorization token.\n"
     ],
     "name": "stdout"
    }
   ]
  },
  {
   "cell_type": "code",
   "metadata": {
    "colab": {
     "base_uri": "https://localhost:8080/"
    },
    "id": "ipYXNthdnNkN",
    "executionInfo": {
     "elapsed": 883,
     "status": "ok",
     "timestamp": 1624112414668,
     "user": {
      "displayName": "邱星晨",
      "photoUrl": "",
      "userId": "14365470316012692039"
     },
     "user_tz": -480
    },
    "outputId": "d16f94bf-1b24-4a83-dece-272df88db291"
   },
   "source": [
    "import os\n",
    "from google.colab import drive\n",
    "drive.mount('/gdrive')\n",
    "try:\n",
    "    os.symlink('/gdrive/My Drive', '/content/gdrive')\n",
    "except:\n",
    "    pass\n",
    "!ls -l /content/gdrive/"
   ],
   "execution_count": null,
   "outputs": [
    {
     "output_type": "stream",
     "text": [
      "Drive already mounted at /gdrive; to attempt to forcibly remount, call drive.mount(\"/gdrive\", force_remount=True).\n",
      "total 26\n",
      "drwx------ 2 root root 4096 Feb 24 11:59 EFNET\n",
      "drwx------ 6 root root 4096 Jun  7 08:07 gee\n",
      "drwx------ 2 root root 4096 Jan 31  2020 google_AI\n",
      "drwx------ 2 root root 4096 Feb 21 14:16 HRNET\n",
      "drwx------ 2 root root 4096 Mar 17 09:02 NET\n",
      "drwx------ 2 root root 4096 Feb 23 14:00 RESNET\n",
      "-rw------- 1 root root 1290 Jun 18 05:52 Untitled0.ipynb\n"
     ],
     "name": "stdout"
    }
   ]
  },
  {
   "cell_type": "code",
   "metadata": {
    "colab": {
     "base_uri": "https://localhost:8080/"
    },
    "id": "uEA_GFhinRKb",
    "executionInfo": {
     "elapsed": 5,
     "status": "ok",
     "timestamp": 1624112415904,
     "user": {
      "displayName": "邱星晨",
      "photoUrl": "",
      "userId": "14365470316012692039"
     },
     "user_tz": -480
    },
    "outputId": "2c7532cd-0719-41d5-e393-2274840ebe49"
   },
   "source": [
    "!mkdir -p drive\n",
    "!google-drive-ocamlfuse drive"
   ],
   "execution_count": null,
   "outputs": [
    {
     "output_type": "stream",
     "text": [
      "/bin/bash: google-drive-ocamlfuse: command not found\n"
     ],
     "name": "stdout"
    }
   ]
  },
  {
   "cell_type": "code",
   "metadata": {
    "colab": {
     "base_uri": "https://localhost:8080/"
    },
    "id": "GN4IJwVtm9oG",
    "executionInfo": {
     "elapsed": 3069,
     "status": "ok",
     "timestamp": 1624112419693,
     "user": {
      "displayName": "邱星晨",
      "photoUrl": "",
      "userId": "14365470316012692039"
     },
     "user_tz": -480
    },
    "outputId": "aceaabc1-5977-4de5-9df1-87ba14d71684"
   },
   "source": [
    "import os \n",
    "import tensorflow as tf\n",
    "try:\n",
    "    os.chdir(\"/content/gdrive/gee\")\n",
    "except:\n",
    "    pass\n",
    "!ls"
   ],
   "execution_count": null,
   "outputs": [
    {
     "output_type": "stream",
     "text": [
      "drive\t\t Efficiunet_r.py  GetGeeMap.ipynb  __pycache__\n",
      "Efficiunet_b.py  gee\t\t  MadeRecord.py    Untitled0.ipynb\n",
      "Efficiunet_g.py  gee_model_3\t  model1.h5\t   Untitled1.ipynb\n",
      "Efficiunet.py\t GEEUSED.ipynb\t  model2.h5\n"
     ],
     "name": "stdout"
    }
   ]
  },
  {
   "cell_type": "code",
   "metadata": {
    "colab": {
     "background_save": true
    },
    "id": "RaLUMHRpqxdT",
    "outputId": "3061e959-97f4-4eb0-818c-958f71b52a36"
   },
   "source": [
    "# constant\n",
    "BANDS = ['B7', 'B3', 'B2']\n",
    "RESPONSE = 'impervious'\n",
    "FEATURES = BANDS + [RESPONSE]\n",
    "list=[i for i in range(2015,2020)]\n",
    "# month_end=[\"01-31\",\"02-28\",\"03-31\",\"04-30\",\"05-31\",\"06-30\",\"07-31\",\"08-31\",\"09-30\",\"10-31\",\"11-30\",\"12-31\"]\n",
    "# month_start=[\"01-01\",\"02-01\",\"03-01\",\"04-01\",\"05-01\",\"06-01\",\"07-01\",\"08-01\",\"09-01\",\"10-01\",\"11-01\",\"12-01\"]\n",
    "month_end=[\"03-31\",\"06-30\",\"09-30\",\"12-31\"]\n",
    "month_start=[\"01-01\",\"04-01\",\"07-01\",\"10-01\"]\n",
    "user_folder = 'users/qxcnwu'\n",
    "bj_image_base = 'effunet_demo'\n",
    "bj_kernel_buffer = [128, 128]\n",
    "BUCKET=\"qxcgee\"\n",
    "\n",
    "# gee上取样点集合\n",
    "k_list=[[98.08390445488186,28.434290895745573],[98.74308414238186,30.08277155520017],[93.97739579181439,31.911025577362487],[95.52646805743939,31.994920953432977],[97.35019852618939,31.859718481536852]]\n",
    "\n",
    "# Specify the size and shape of patches expected by the model.\n",
    "KERNEL_SIZE = 1024\n",
    "KERNEL_SHAPE = [KERNEL_SIZE, KERNEL_SIZE]\n",
    "COLUMNS = [\n",
    "  tf.io.FixedLenFeature(shape=KERNEL_SHAPE, dtype=tf.float32) for k in FEATURES\n",
    "]\n",
    "FEATURES_DICT = dict(zip(FEATURES, COLUMNS))\n",
    "\n",
    "# model of effciunet\n",
    "MODEL_DIR = 'gee_model_3/'\n",
    "m = tf.keras.models.load_model(MODEL_DIR)"
   ],
   "execution_count": null,
   "outputs": [
    {
     "output_type": "stream",
     "text": [
      "WARNING:tensorflow:No training configuration found in save file, so the model was *not* compiled. Compile it manually.\n"
     ],
     "name": "stdout"
    }
   ]
  },
  {
   "cell_type": "code",
   "metadata": {
    "id": "eU9UlCv-trSE"
   },
   "source": [
    "def doExport(out_image_base, kernel_buffer,FOLDER):\n",
    "  \"\"\"Run the image export task.  Block until complete.\n",
    "    .clip(ee.Geometry.Polygon([[94.60662921680765,30.401055969248482],[95.04608234180765,30.401055969248482],[95.04608234180765,30.651840122638728],[94.60662921680765,30.651840122638728],[94.60662921680765,30.401055969248482]]))\n",
    "  \"\"\"\n",
    "  task = ee.batch.Export.image.toCloudStorage(\n",
    "    image = image.select([\"B7\",\"B3\",\"B2\"]),\n",
    "    description = out_image_base,\n",
    "    bucket = BUCKET,\n",
    "    fileNamePrefix = FOLDER + '/' + out_image_base,\n",
    "    scale = 30,\n",
    "    fileFormat = 'TFRecord',\n",
    "    maxPixels = 1e10,\n",
    "    formatOptions = {\n",
    "      'patchDimensions': KERNEL_SHAPE,\n",
    "      'kernelSize': kernel_buffer,\n",
    "      'compressed': True,\n",
    "      'maxFileSize': 104857600\n",
    "    }\n",
    "  )\n",
    "  task.start()\n",
    "\n",
    "  # Block until the task completes.\n",
    "  print('Running image export to Cloud Storage...')\n",
    "  import time\n",
    "  while task.active():\n",
    "    time.sleep(30)\n",
    "\n",
    "  # Error condition\n",
    "  if task.status()['state'] != 'COMPLETED':\n",
    "    print('Error with image export.')\n",
    "  else:\n",
    "    print('Image export completed.')"
   ],
   "execution_count": null,
   "outputs": []
  },
  {
   "cell_type": "code",
   "metadata": {
    "id": "iE3wbZ0Ktu3n"
   },
   "source": [
    "def doPrediction(out_image_base, user_folder, kernel_buffer,FOLDER):\n",
    "  \"\"\"Perform inference on exported imagery, upload to Earth Engine.\n",
    "  \"\"\"\n",
    "\n",
    "  print('Looking for TFRecord files...')\n",
    "\n",
    "  # Get a list of all the files in the output bucket.\n",
    "  filesList = !gsutil ls 'gs://'{BUCKET}'/'{FOLDER}\n",
    "\n",
    "  # Get only the files generated by the image export.\n",
    "  exportFilesList = [s for s in filesList if out_image_base in s]\n",
    "\n",
    "  # Get the list of image files and the JSON mixer file.\n",
    "  imageFilesList = []\n",
    "  jsonFile = None\n",
    "  for f in exportFilesList:\n",
    "    if f.endswith('.tfrecord.gz'):\n",
    "      imageFilesList.append(f)\n",
    "    elif f.endswith('.json'):\n",
    "      jsonFile = f\n",
    "\n",
    "  # Make sure the files are in the right order.\n",
    "  imageFilesList.sort()\n",
    "\n",
    "  from pprint import pprint\n",
    "\n",
    "  import json\n",
    "  # Load the contents of the mixer file to a JSON object.\n",
    "  jsonText = !gsutil cat {jsonFile}\n",
    "  # Get a single string w/ newlines from the IPython.utils.text.SList\n",
    "  mixer = json.loads(jsonText.nlstr)\n",
    "  patches = mixer['totalPatches']\n",
    "\n",
    "  # Get set up for prediction.\n",
    "  x_buffer = int(kernel_buffer[0] / 2)\n",
    "  y_buffer = int(kernel_buffer[1] / 2)\n",
    "\n",
    "  buffered_shape = [\n",
    "      KERNEL_SHAPE[0] + kernel_buffer[0],\n",
    "      KERNEL_SHAPE[1] + kernel_buffer[1]]\n",
    "\n",
    "  imageColumns = [\n",
    "    tf.io.FixedLenFeature(shape=buffered_shape, dtype=tf.float32) \n",
    "      for k in BANDS\n",
    "  ]\n",
    "\n",
    "  imageFeaturesDict = dict(zip(BANDS, imageColumns))\n",
    "\n",
    "  def parse_image(example_proto):\n",
    "    return tf.io.parse_single_example(example_proto, imageFeaturesDict)\n",
    "\n",
    "  def toTupleImage(inputs):\n",
    "    inputsList = [inputs.get(key) for key in BANDS]\n",
    "    stacked = tf.stack(inputsList, axis=0)\n",
    "    stacked = tf.transpose(stacked, [1, 2, 0])\n",
    "    return stacked\n",
    "\n",
    "   # Create a dataset from the TFRecord file(s) in Cloud Storage.\n",
    "  imageDataset = tf.data.TFRecordDataset(imageFilesList, compression_type='GZIP')\n",
    "  imageDataset = imageDataset.map(parse_image, num_parallel_calls=5)\n",
    "  imageDataset = imageDataset.map(toTupleImage).batch(1)\n",
    "\n",
    "  # Perform inference.\n",
    "  print('Running predictions...')\n",
    "  predictions = m.predict(imageDataset, steps=patches, verbose=1)\n",
    "  import numpy as np\n",
    "  out_image_file = 'gs://' + BUCKET + '/' + FOLDER + '/' + out_image_base + '.TFRecord'\n",
    "  writer = tf.io.TFRecordWriter(out_image_file)\n",
    "  patches=0\n",
    "  from tqdm import tqdm\n",
    "  for predictionPatch in tqdm(predictions):\n",
    "    predictionPatch = predictionPatch[\n",
    "        x_buffer:x_buffer+KERNEL_SIZE, y_buffer:y_buffer+KERNEL_SIZE]\n",
    "    # Create an example.\n",
    "    predictionPatchs=np.argmax(predictionPatch,-1)\n",
    "    example = tf.train.Example(\n",
    "      features=tf.train.Features(\n",
    "        feature={\n",
    "          'impervious': tf.train.Feature(\n",
    "              float_list=tf.train.FloatList(\n",
    "                  value=predictionPatchs.flatten()))\n",
    "        }\n",
    "      )\n",
    "    )\n",
    "    # Write the example.\n",
    "    writer.write(example.SerializeToString())\n",
    "    patches += 1\n",
    "\n",
    "  writer.close()\n",
    "\n",
    "  # Start the upload.\n",
    "  out_image_asset = user_folder + '/' + out_image_base\n",
    "  !earthengine upload image --asset_id={out_image_asset} {out_image_file} {jsonFile}"
   ],
   "execution_count": null,
   "outputs": []
  },
  {
   "cell_type": "code",
   "metadata": {
    "colab": {
     "background_save": true,
     "base_uri": "https://localhost:8080/"
    },
    "id": "cFwlcdul4z3Q",
    "outputId": "b180352c-71da-498a-cdc0-8e0df4d279a8"
   },
   "source": [
    "flag=0\n",
    "for k in range(12):\n",
    "    flag+=1\n",
    "    for i in list:\n",
    "        for j in range(1,5):\n",
    "            start_date=str(i)+'-'+month_start[j-1]\n",
    "            end_date=str(i)+'-'+month_end[j-1]\n",
    "            print(start_date,end_date,' starting!!...')\n",
    "            image=ee.Image(ee.ImageCollection('LANDSAT/LC08/C01/T1_TOA').filterDate(start_date, end_date).filterBounds(ee.Geometry.Point(k[0],k[1])).sort('CLOUD_COVER').first())\n",
    "            try:\n",
    "                FLODER=str(i)+'_'+str(j)+\"_\"+str(flag)\n",
    "                # 以下两部最好是分别使用 以寻求最佳的GPU使用策略\n",
    "                bj_image_base='effunet_demo_left'+FLODER\n",
    "                # doExport(bj_image_base, bj_kernel_buffer,FLODER)\n",
    "                doPrediction(bj_image_base, user_folder, bj_kernel_buffer,FLODER)\n",
    "            except:\n",
    "                print(start_date,end_date)"
   ],
   "execution_count": null,
   "outputs": [
    {
     "output_type": "stream",
     "text": [
      "2015-01-01 2015-03-31  starting!!...\n",
      "2015_1_2 effunet_demo_left2015_1_2\n",
      "Looking for TFRecord files...\n",
      "Running predictions...\n",
      "49/49 [==============================] - 68s 1s/step\n"
     ],
     "name": "stdout"
    },
    {
     "output_type": "stream",
     "text": [
      "100%|██████████| 49/49 [00:11<00:00,  4.34it/s]\n"
     ],
     "name": "stderr"
    },
    {
     "output_type": "stream",
     "text": [
      "WARNING:tensorflow:From /usr/local/lib/python3.7/dist-packages/tensorflow/python/compat/v2_compat.py:96: disable_resource_variables (from tensorflow.python.ops.variable_scope) is deprecated and will be removed in a future version.\n",
      "Instructions for updating:\n",
      "non-resource variables are not supported in the long term\n",
      "Started upload task with ID: SVYT4SS4ZVYUDBNRGCNRDDQU\n",
      "2015-04-01 2015-06-30  starting!!...\n",
      "2015_2_2 effunet_demo_left2015_2_2\n",
      "Looking for TFRecord files...\n",
      "Running predictions...\n",
      "49/49 [==============================] - 67s 1s/step\n"
     ],
     "name": "stdout"
    },
    {
     "output_type": "stream",
     "text": [
      "100%|██████████| 49/49 [00:11<00:00,  4.30it/s]\n"
     ],
     "name": "stderr"
    },
    {
     "output_type": "stream",
     "text": [
      "WARNING:tensorflow:From /usr/local/lib/python3.7/dist-packages/tensorflow/python/compat/v2_compat.py:96: disable_resource_variables (from tensorflow.python.ops.variable_scope) is deprecated and will be removed in a future version.\n",
      "Instructions for updating:\n",
      "non-resource variables are not supported in the long term\n",
      "Started upload task with ID: 2YL6J5BG54JSY5Z4QQBHIAYM\n",
      "2015-07-01 2015-09-30  starting!!...\n",
      "2015_3_2 effunet_demo_left2015_3_2\n",
      "Looking for TFRecord files...\n",
      "Running predictions...\n",
      "49/49 [==============================] - 66s 1s/step\n"
     ],
     "name": "stdout"
    },
    {
     "output_type": "stream",
     "text": [
      "100%|██████████| 49/49 [00:11<00:00,  4.40it/s]\n"
     ],
     "name": "stderr"
    },
    {
     "output_type": "stream",
     "text": [
      "WARNING:tensorflow:From /usr/local/lib/python3.7/dist-packages/tensorflow/python/compat/v2_compat.py:96: disable_resource_variables (from tensorflow.python.ops.variable_scope) is deprecated and will be removed in a future version.\n",
      "Instructions for updating:\n",
      "non-resource variables are not supported in the long term\n",
      "Started upload task with ID: BFFIZUXJR52SJNQE3CDOVEVR\n",
      "2015-10-01 2015-12-31  starting!!...\n",
      "2015_4_2 effunet_demo_left2015_4_2\n",
      "Looking for TFRecord files...\n",
      "Running predictions...\n",
      "49/49 [==============================] - 67s 1s/step\n"
     ],
     "name": "stdout"
    },
    {
     "output_type": "stream",
     "text": [
      "100%|██████████| 49/49 [00:11<00:00,  4.38it/s]\n"
     ],
     "name": "stderr"
    },
    {
     "output_type": "stream",
     "text": [
      "WARNING:tensorflow:From /usr/local/lib/python3.7/dist-packages/tensorflow/python/compat/v2_compat.py:96: disable_resource_variables (from tensorflow.python.ops.variable_scope) is deprecated and will be removed in a future version.\n",
      "Instructions for updating:\n",
      "non-resource variables are not supported in the long term\n",
      "Started upload task with ID: SOP4ARN36NZVJTMCRZXZHLDX\n",
      "2016-01-01 2016-03-31  starting!!...\n",
      "2016_1_2 effunet_demo_left2016_1_2\n",
      "Looking for TFRecord files...\n",
      "Running predictions...\n",
      "49/49 [==============================] - 65s 1s/step\n"
     ],
     "name": "stdout"
    },
    {
     "output_type": "stream",
     "text": [
      "100%|██████████| 49/49 [00:11<00:00,  4.35it/s]\n"
     ],
     "name": "stderr"
    },
    {
     "output_type": "stream",
     "text": [
      "WARNING:tensorflow:From /usr/local/lib/python3.7/dist-packages/tensorflow/python/compat/v2_compat.py:96: disable_resource_variables (from tensorflow.python.ops.variable_scope) is deprecated and will be removed in a future version.\n",
      "Instructions for updating:\n",
      "non-resource variables are not supported in the long term\n",
      "Started upload task with ID: 2GBLRAQFDYZEZ35WLMQDHJN5\n",
      "2016-04-01 2016-06-30  starting!!...\n",
      "2016_2_2 effunet_demo_left2016_2_2\n",
      "Looking for TFRecord files...\n",
      "Running predictions...\n",
      "49/49 [==============================] - 66s 1s/step\n"
     ],
     "name": "stdout"
    },
    {
     "output_type": "stream",
     "text": [
      "100%|██████████| 49/49 [00:11<00:00,  4.35it/s]\n"
     ],
     "name": "stderr"
    },
    {
     "output_type": "stream",
     "text": [
      "WARNING:tensorflow:From /usr/local/lib/python3.7/dist-packages/tensorflow/python/compat/v2_compat.py:96: disable_resource_variables (from tensorflow.python.ops.variable_scope) is deprecated and will be removed in a future version.\n",
      "Instructions for updating:\n",
      "non-resource variables are not supported in the long term\n",
      "Started upload task with ID: TA5V7QJ22TCSD2UFGRYQJLN3\n",
      "2016-07-01 2016-09-30  starting!!...\n",
      "2016_3_2 effunet_demo_left2016_3_2\n",
      "Looking for TFRecord files...\n",
      "Running predictions...\n",
      "49/49 [==============================] - 71s 1s/step\n"
     ],
     "name": "stdout"
    },
    {
     "output_type": "stream",
     "text": [
      "100%|██████████| 49/49 [00:11<00:00,  4.33it/s]\n"
     ],
     "name": "stderr"
    },
    {
     "output_type": "stream",
     "text": [
      "WARNING:tensorflow:From /usr/local/lib/python3.7/dist-packages/tensorflow/python/compat/v2_compat.py:96: disable_resource_variables (from tensorflow.python.ops.variable_scope) is deprecated and will be removed in a future version.\n",
      "Instructions for updating:\n",
      "non-resource variables are not supported in the long term\n",
      "Started upload task with ID: LYHPKUZTQSP4ARNS423AUWEX\n",
      "2016-10-01 2016-12-31  starting!!...\n",
      "2016_4_2 effunet_demo_left2016_4_2\n",
      "Looking for TFRecord files...\n",
      "Running predictions...\n",
      "49/49 [==============================] - 69s 1s/step\n"
     ],
     "name": "stdout"
    },
    {
     "output_type": "stream",
     "text": [
      "100%|██████████| 49/49 [00:11<00:00,  4.30it/s]\n"
     ],
     "name": "stderr"
    },
    {
     "output_type": "stream",
     "text": [
      "WARNING:tensorflow:From /usr/local/lib/python3.7/dist-packages/tensorflow/python/compat/v2_compat.py:96: disable_resource_variables (from tensorflow.python.ops.variable_scope) is deprecated and will be removed in a future version.\n",
      "Instructions for updating:\n",
      "non-resource variables are not supported in the long term\n",
      "Started upload task with ID: RYKH4VNH62DVKSDE4NMLASQT\n",
      "2017-01-01 2017-03-31  starting!!...\n",
      "2017_1_2 effunet_demo_left2017_1_2\n",
      "Looking for TFRecord files...\n",
      "Running predictions...\n",
      "49/49 [==============================] - 64s 1s/step\n"
     ],
     "name": "stdout"
    },
    {
     "output_type": "stream",
     "text": [
      "100%|██████████| 49/49 [00:11<00:00,  4.34it/s]\n"
     ],
     "name": "stderr"
    },
    {
     "output_type": "stream",
     "text": [
      "WARNING:tensorflow:From /usr/local/lib/python3.7/dist-packages/tensorflow/python/compat/v2_compat.py:96: disable_resource_variables (from tensorflow.python.ops.variable_scope) is deprecated and will be removed in a future version.\n",
      "Instructions for updating:\n",
      "non-resource variables are not supported in the long term\n",
      "Started upload task with ID: HVPOKJMTW4ZXDBNCYNMTI7JI\n",
      "2017-04-01 2017-06-30  starting!!...\n",
      "2017_2_2 effunet_demo_left2017_2_2\n",
      "Looking for TFRecord files...\n",
      "Running predictions...\n",
      "49/49 [==============================] - 63s 1s/step\n"
     ],
     "name": "stdout"
    },
    {
     "output_type": "stream",
     "text": [
      "100%|██████████| 49/49 [00:11<00:00,  4.38it/s]\n"
     ],
     "name": "stderr"
    },
    {
     "output_type": "stream",
     "text": [
      "WARNING:tensorflow:From /usr/local/lib/python3.7/dist-packages/tensorflow/python/compat/v2_compat.py:96: disable_resource_variables (from tensorflow.python.ops.variable_scope) is deprecated and will be removed in a future version.\n",
      "Instructions for updating:\n",
      "non-resource variables are not supported in the long term\n",
      "Started upload task with ID: 7VJUXYJ5IRKD4UUGALX2WHV2\n",
      "2017-07-01 2017-09-30  starting!!...\n",
      "2017_3_2 effunet_demo_left2017_3_2\n",
      "Looking for TFRecord files...\n",
      "Running predictions...\n",
      "49/49 [==============================] - 66s 1s/step\n"
     ],
     "name": "stdout"
    },
    {
     "output_type": "stream",
     "text": [
      "100%|██████████| 49/49 [00:11<00:00,  4.32it/s]\n"
     ],
     "name": "stderr"
    },
    {
     "output_type": "stream",
     "text": [
      "WARNING:tensorflow:From /usr/local/lib/python3.7/dist-packages/tensorflow/python/compat/v2_compat.py:96: disable_resource_variables (from tensorflow.python.ops.variable_scope) is deprecated and will be removed in a future version.\n",
      "Instructions for updating:\n",
      "non-resource variables are not supported in the long term\n",
      "Started upload task with ID: MWODL7IOHFLW4WMISS7TFN2F\n",
      "2017-10-01 2017-12-31  starting!!...\n",
      "2017_4_2 effunet_demo_left2017_4_2\n",
      "Looking for TFRecord files...\n",
      "Running predictions...\n",
      "49/49 [==============================] - 56s 1s/step\n"
     ],
     "name": "stdout"
    },
    {
     "output_type": "stream",
     "text": [
      "100%|██████████| 49/49 [00:11<00:00,  4.38it/s]\n"
     ],
     "name": "stderr"
    },
    {
     "output_type": "stream",
     "text": [
      "WARNING:tensorflow:From /usr/local/lib/python3.7/dist-packages/tensorflow/python/compat/v2_compat.py:96: disable_resource_variables (from tensorflow.python.ops.variable_scope) is deprecated and will be removed in a future version.\n",
      "Instructions for updating:\n",
      "non-resource variables are not supported in the long term\n",
      "Started upload task with ID: P7PIESBA6JN6L3MCXU5PWJNY\n",
      "2018-01-01 2018-03-31  starting!!...\n",
      "2018_1_2 effunet_demo_left2018_1_2\n",
      "Looking for TFRecord files...\n",
      "Running predictions...\n",
      "49/49 [==============================] - 64s 1s/step\n"
     ],
     "name": "stdout"
    },
    {
     "output_type": "stream",
     "text": [
      "100%|██████████| 49/49 [00:10<00:00,  4.46it/s]\n"
     ],
     "name": "stderr"
    },
    {
     "output_type": "stream",
     "text": [
      "WARNING:tensorflow:From /usr/local/lib/python3.7/dist-packages/tensorflow/python/compat/v2_compat.py:96: disable_resource_variables (from tensorflow.python.ops.variable_scope) is deprecated and will be removed in a future version.\n",
      "Instructions for updating:\n",
      "non-resource variables are not supported in the long term\n",
      "Started upload task with ID: YHCOZCJ74TDGPN52ZYP75PX5\n",
      "2018-04-01 2018-06-30  starting!!...\n",
      "2018_2_2 effunet_demo_left2018_2_2\n",
      "Looking for TFRecord files...\n",
      "Running predictions...\n",
      "49/49 [==============================] - 69s 1s/step\n"
     ],
     "name": "stdout"
    },
    {
     "output_type": "stream",
     "text": [
      "100%|██████████| 49/49 [00:11<00:00,  4.35it/s]\n"
     ],
     "name": "stderr"
    },
    {
     "output_type": "stream",
     "text": [
      "WARNING:tensorflow:From /usr/local/lib/python3.7/dist-packages/tensorflow/python/compat/v2_compat.py:96: disable_resource_variables (from tensorflow.python.ops.variable_scope) is deprecated and will be removed in a future version.\n",
      "Instructions for updating:\n",
      "non-resource variables are not supported in the long term\n",
      "Started upload task with ID: TRNIDL5JGRC4U5IIBNBYMJ7P\n",
      "2018-07-01 2018-09-30  starting!!...\n",
      "2018_3_2 effunet_demo_left2018_3_2\n",
      "Looking for TFRecord files...\n",
      "Running predictions...\n",
      "49/49 [==============================] - 62s 1s/step\n"
     ],
     "name": "stdout"
    },
    {
     "output_type": "stream",
     "text": [
      "100%|██████████| 49/49 [00:11<00:00,  4.43it/s]\n"
     ],
     "name": "stderr"
    },
    {
     "output_type": "stream",
     "text": [
      "WARNING:tensorflow:From /usr/local/lib/python3.7/dist-packages/tensorflow/python/compat/v2_compat.py:96: disable_resource_variables (from tensorflow.python.ops.variable_scope) is deprecated and will be removed in a future version.\n",
      "Instructions for updating:\n",
      "non-resource variables are not supported in the long term\n",
      "Started upload task with ID: S4ZQV3LWKDDTOGPHSZWASBF6\n",
      "2018-10-01 2018-12-31  starting!!...\n",
      "2018_4_2 effunet_demo_left2018_4_2\n",
      "Looking for TFRecord files...\n",
      "Running predictions...\n",
      "49/49 [==============================] - 64s 1s/step\n"
     ],
     "name": "stdout"
    },
    {
     "output_type": "stream",
     "text": [
      "100%|██████████| 49/49 [00:11<00:00,  4.40it/s]\n"
     ],
     "name": "stderr"
    },
    {
     "output_type": "stream",
     "text": [
      "WARNING:tensorflow:From /usr/local/lib/python3.7/dist-packages/tensorflow/python/compat/v2_compat.py:96: disable_resource_variables (from tensorflow.python.ops.variable_scope) is deprecated and will be removed in a future version.\n",
      "Instructions for updating:\n",
      "non-resource variables are not supported in the long term\n",
      "Started upload task with ID: 2SGI3J6L7CX2AWWU7S2X2ORP\n",
      "2019-01-01 2019-03-31  starting!!...\n",
      "2019_1_2 effunet_demo_left2019_1_2\n",
      "Looking for TFRecord files...\n",
      "Running predictions...\n",
      "49/49 [==============================] - 68s 1s/step\n"
     ],
     "name": "stdout"
    },
    {
     "output_type": "stream",
     "text": [
      "100%|██████████| 49/49 [00:11<00:00,  4.41it/s]\n"
     ],
     "name": "stderr"
    },
    {
     "output_type": "stream",
     "text": [
      "WARNING:tensorflow:From /usr/local/lib/python3.7/dist-packages/tensorflow/python/compat/v2_compat.py:96: disable_resource_variables (from tensorflow.python.ops.variable_scope) is deprecated and will be removed in a future version.\n",
      "Instructions for updating:\n",
      "non-resource variables are not supported in the long term\n",
      "Started upload task with ID: YS3DSTP4G7MAKUTWYAXNIRDH\n",
      "2019-04-01 2019-06-30  starting!!...\n",
      "2019_2_2 effunet_demo_left2019_2_2\n",
      "Looking for TFRecord files...\n",
      "Running predictions...\n",
      "49/49 [==============================] - 76s 2s/step\n"
     ],
     "name": "stdout"
    },
    {
     "output_type": "stream",
     "text": [
      "100%|██████████| 49/49 [00:11<00:00,  4.33it/s]\n"
     ],
     "name": "stderr"
    },
    {
     "output_type": "stream",
     "text": [
      "WARNING:tensorflow:From /usr/local/lib/python3.7/dist-packages/tensorflow/python/compat/v2_compat.py:96: disable_resource_variables (from tensorflow.python.ops.variable_scope) is deprecated and will be removed in a future version.\n",
      "Instructions for updating:\n",
      "non-resource variables are not supported in the long term\n",
      "Started upload task with ID: W65BXO3HIUWSBC4ZR56KZMHX\n",
      "2019-07-01 2019-09-30  starting!!...\n",
      "2019_3_2 effunet_demo_left2019_3_2\n",
      "Looking for TFRecord files...\n",
      "Running predictions...\n",
      "49/49 [==============================] - 64s 1s/step\n"
     ],
     "name": "stdout"
    },
    {
     "output_type": "stream",
     "text": [
      "100%|██████████| 49/49 [00:11<00:00,  4.37it/s]\n"
     ],
     "name": "stderr"
    },
    {
     "output_type": "stream",
     "text": [
      "WARNING:tensorflow:From /usr/local/lib/python3.7/dist-packages/tensorflow/python/compat/v2_compat.py:96: disable_resource_variables (from tensorflow.python.ops.variable_scope) is deprecated and will be removed in a future version.\n",
      "Instructions for updating:\n",
      "non-resource variables are not supported in the long term\n",
      "Started upload task with ID: WLS7SICAPSBJPUJQMOXTFAHV\n",
      "2019-10-01 2019-12-31  starting!!...\n",
      "2019_4_2 effunet_demo_left2019_4_2\n",
      "Looking for TFRecord files...\n",
      "Running predictions...\n",
      "49/49 [==============================] - 71s 1s/step\n"
     ],
     "name": "stdout"
    },
    {
     "output_type": "stream",
     "text": [
      "100%|██████████| 49/49 [00:11<00:00,  4.32it/s]\n"
     ],
     "name": "stderr"
    },
    {
     "output_type": "stream",
     "text": [
      "WARNING:tensorflow:From /usr/local/lib/python3.7/dist-packages/tensorflow/python/compat/v2_compat.py:96: disable_resource_variables (from tensorflow.python.ops.variable_scope) is deprecated and will be removed in a future version.\n",
      "Instructions for updating:\n",
      "non-resource variables are not supported in the long term\n",
      "Started upload task with ID: ZKO3AK5DLT7JYBQO3AFEBYWE\n",
      "2015-01-01 2015-03-31  starting!!...\n",
      "2015_1_3 effunet_demo_left2015_1_3\n",
      "Looking for TFRecord files...\n",
      "Running predictions...\n",
      "49/49 [==============================] - 65s 1s/step\n"
     ],
     "name": "stdout"
    },
    {
     "output_type": "stream",
     "text": [
      "100%|██████████| 49/49 [00:11<00:00,  4.38it/s]\n"
     ],
     "name": "stderr"
    },
    {
     "output_type": "stream",
     "text": [
      "WARNING:tensorflow:From /usr/local/lib/python3.7/dist-packages/tensorflow/python/compat/v2_compat.py:96: disable_resource_variables (from tensorflow.python.ops.variable_scope) is deprecated and will be removed in a future version.\n",
      "Instructions for updating:\n",
      "non-resource variables are not supported in the long term\n",
      "Started upload task with ID: 2UOQG64X6YPZ72M43YKYOQDL\n",
      "2015-04-01 2015-06-30  starting!!...\n",
      "2015_2_3 effunet_demo_left2015_2_3\n",
      "Looking for TFRecord files...\n",
      "Running predictions...\n",
      "49/49 [==============================] - 60s 1s/step\n"
     ],
     "name": "stdout"
    },
    {
     "output_type": "stream",
     "text": [
      "100%|██████████| 49/49 [00:11<00:00,  4.37it/s]\n"
     ],
     "name": "stderr"
    },
    {
     "output_type": "stream",
     "text": [
      "WARNING:tensorflow:From /usr/local/lib/python3.7/dist-packages/tensorflow/python/compat/v2_compat.py:96: disable_resource_variables (from tensorflow.python.ops.variable_scope) is deprecated and will be removed in a future version.\n",
      "Instructions for updating:\n",
      "non-resource variables are not supported in the long term\n",
      "Started upload task with ID: E6DMYNIL3TMMZCBE3KBJKSSC\n",
      "2015-07-01 2015-09-30  starting!!...\n",
      "2015_3_3 effunet_demo_left2015_3_3\n",
      "Looking for TFRecord files...\n",
      "Running predictions...\n",
      "49/49 [==============================] - 73s 1s/step\n"
     ],
     "name": "stdout"
    },
    {
     "output_type": "stream",
     "text": [
      "100%|██████████| 49/49 [00:11<00:00,  4.38it/s]\n"
     ],
     "name": "stderr"
    },
    {
     "output_type": "stream",
     "text": [
      "WARNING:tensorflow:From /usr/local/lib/python3.7/dist-packages/tensorflow/python/compat/v2_compat.py:96: disable_resource_variables (from tensorflow.python.ops.variable_scope) is deprecated and will be removed in a future version.\n",
      "Instructions for updating:\n",
      "non-resource variables are not supported in the long term\n",
      "Started upload task with ID: JP52QE2QSLEHEAZB5GRCFYBV\n",
      "2015-10-01 2015-12-31  starting!!...\n",
      "2015_4_3 effunet_demo_left2015_4_3\n",
      "Looking for TFRecord files...\n",
      "Running predictions...\n",
      "49/49 [==============================] - 60s 1s/step\n"
     ],
     "name": "stdout"
    },
    {
     "output_type": "stream",
     "text": [
      "100%|██████████| 49/49 [00:11<00:00,  4.40it/s]\n"
     ],
     "name": "stderr"
    },
    {
     "output_type": "stream",
     "text": [
      "WARNING:tensorflow:From /usr/local/lib/python3.7/dist-packages/tensorflow/python/compat/v2_compat.py:96: disable_resource_variables (from tensorflow.python.ops.variable_scope) is deprecated and will be removed in a future version.\n",
      "Instructions for updating:\n",
      "non-resource variables are not supported in the long term\n",
      "Started upload task with ID: ROMXQYETX4AWTTFVY4TQN434\n",
      "2016-01-01 2016-03-31  starting!!...\n",
      "2016_1_3 effunet_demo_left2016_1_3\n",
      "Looking for TFRecord files...\n",
      "Running predictions...\n",
      "49/49 [==============================] - 63s 1s/step\n"
     ],
     "name": "stdout"
    },
    {
     "output_type": "stream",
     "text": [
      "100%|██████████| 49/49 [00:11<00:00,  4.40it/s]\n"
     ],
     "name": "stderr"
    },
    {
     "output_type": "stream",
     "text": [
      "WARNING:tensorflow:From /usr/local/lib/python3.7/dist-packages/tensorflow/python/compat/v2_compat.py:96: disable_resource_variables (from tensorflow.python.ops.variable_scope) is deprecated and will be removed in a future version.\n",
      "Instructions for updating:\n",
      "non-resource variables are not supported in the long term\n",
      "Started upload task with ID: XVUDZHWWPH5DJAC4LZETMC7N\n",
      "2016-04-01 2016-06-30  starting!!...\n",
      "2016_2_3 effunet_demo_left2016_2_3\n",
      "Looking for TFRecord files...\n",
      "Running predictions...\n",
      "49/49 [==============================] - 63s 1s/step\n"
     ],
     "name": "stdout"
    },
    {
     "output_type": "stream",
     "text": [
      "100%|██████████| 49/49 [00:11<00:00,  4.41it/s]\n"
     ],
     "name": "stderr"
    },
    {
     "output_type": "stream",
     "text": [
      "WARNING:tensorflow:From /usr/local/lib/python3.7/dist-packages/tensorflow/python/compat/v2_compat.py:96: disable_resource_variables (from tensorflow.python.ops.variable_scope) is deprecated and will be removed in a future version.\n",
      "Instructions for updating:\n",
      "non-resource variables are not supported in the long term\n",
      "Started upload task with ID: OSI4IKBN4K3ZWVHGSCMZWABX\n",
      "2016-07-01 2016-09-30  starting!!...\n",
      "2016_3_3 effunet_demo_left2016_3_3\n",
      "Looking for TFRecord files...\n",
      "Running predictions...\n",
      "49/49 [==============================] - 62s 1s/step\n"
     ],
     "name": "stdout"
    },
    {
     "output_type": "stream",
     "text": [
      "100%|██████████| 49/49 [00:11<00:00,  4.40it/s]\n"
     ],
     "name": "stderr"
    },
    {
     "output_type": "stream",
     "text": [
      "WARNING:tensorflow:From /usr/local/lib/python3.7/dist-packages/tensorflow/python/compat/v2_compat.py:96: disable_resource_variables (from tensorflow.python.ops.variable_scope) is deprecated and will be removed in a future version.\n",
      "Instructions for updating:\n",
      "non-resource variables are not supported in the long term\n",
      "Started upload task with ID: G54WCOKPAIPWNIZJYW6BZJ5N\n",
      "2016-10-01 2016-12-31  starting!!...\n",
      "2016_4_3 effunet_demo_left2016_4_3\n",
      "Looking for TFRecord files...\n",
      "Running predictions...\n",
      "49/49 [==============================] - 59s 1s/step\n"
     ],
     "name": "stdout"
    },
    {
     "output_type": "stream",
     "text": [
      "100%|██████████| 49/49 [00:11<00:00,  4.39it/s]\n"
     ],
     "name": "stderr"
    },
    {
     "output_type": "stream",
     "text": [
      "WARNING:tensorflow:From /usr/local/lib/python3.7/dist-packages/tensorflow/python/compat/v2_compat.py:96: disable_resource_variables (from tensorflow.python.ops.variable_scope) is deprecated and will be removed in a future version.\n",
      "Instructions for updating:\n",
      "non-resource variables are not supported in the long term\n",
      "Started upload task with ID: 25IDG37ST4LUSB3MW2V3VEUI\n",
      "2017-01-01 2017-03-31  starting!!...\n",
      "2017_1_3 effunet_demo_left2017_1_3\n",
      "Looking for TFRecord files...\n",
      "Running predictions...\n",
      "49/49 [==============================] - 65s 1s/step\n"
     ],
     "name": "stdout"
    },
    {
     "output_type": "stream",
     "text": [
      "100%|██████████| 49/49 [00:11<00:00,  4.42it/s]\n"
     ],
     "name": "stderr"
    },
    {
     "output_type": "stream",
     "text": [
      "WARNING:tensorflow:From /usr/local/lib/python3.7/dist-packages/tensorflow/python/compat/v2_compat.py:96: disable_resource_variables (from tensorflow.python.ops.variable_scope) is deprecated and will be removed in a future version.\n",
      "Instructions for updating:\n",
      "non-resource variables are not supported in the long term\n",
      "Started upload task with ID: 66PFCITLHPD3TZOC5AXGNNBR\n",
      "2017-04-01 2017-06-30  starting!!...\n",
      "2017_2_3 effunet_demo_left2017_2_3\n",
      "Looking for TFRecord files...\n",
      "Running predictions...\n",
      "49/49 [==============================] - 71s 1s/step\n"
     ],
     "name": "stdout"
    },
    {
     "output_type": "stream",
     "text": [
      "100%|██████████| 49/49 [00:11<00:00,  4.36it/s]\n"
     ],
     "name": "stderr"
    },
    {
     "output_type": "stream",
     "text": [
      "WARNING:tensorflow:From /usr/local/lib/python3.7/dist-packages/tensorflow/python/compat/v2_compat.py:96: disable_resource_variables (from tensorflow.python.ops.variable_scope) is deprecated and will be removed in a future version.\n",
      "Instructions for updating:\n",
      "non-resource variables are not supported in the long term\n",
      "Started upload task with ID: 7XP3GPUUTZRKZ26DTBWWYIZM\n",
      "2017-07-01 2017-09-30  starting!!...\n",
      "2017_3_3 effunet_demo_left2017_3_3\n",
      "Looking for TFRecord files...\n",
      "Running predictions...\n",
      "49/49 [==============================] - 56s 1s/step\n"
     ],
     "name": "stdout"
    },
    {
     "output_type": "stream",
     "text": [
      "100%|██████████| 49/49 [00:11<00:00,  4.37it/s]\n"
     ],
     "name": "stderr"
    },
    {
     "output_type": "stream",
     "text": [
      "WARNING:tensorflow:From /usr/local/lib/python3.7/dist-packages/tensorflow/python/compat/v2_compat.py:96: disable_resource_variables (from tensorflow.python.ops.variable_scope) is deprecated and will be removed in a future version.\n",
      "Instructions for updating:\n",
      "non-resource variables are not supported in the long term\n",
      "Started upload task with ID: 3LH42ALAM6KA3JTQSZOKRXJR\n",
      "2017-10-01 2017-12-31  starting!!...\n",
      "2017_4_3 effunet_demo_left2017_4_3\n",
      "Looking for TFRecord files...\n",
      "Running predictions...\n",
      "49/49 [==============================] - 70s 1s/step\n"
     ],
     "name": "stdout"
    },
    {
     "output_type": "stream",
     "text": [
      "100%|██████████| 49/49 [00:11<00:00,  4.36it/s]\n"
     ],
     "name": "stderr"
    },
    {
     "output_type": "stream",
     "text": [
      "WARNING:tensorflow:From /usr/local/lib/python3.7/dist-packages/tensorflow/python/compat/v2_compat.py:96: disable_resource_variables (from tensorflow.python.ops.variable_scope) is deprecated and will be removed in a future version.\n",
      "Instructions for updating:\n",
      "non-resource variables are not supported in the long term\n",
      "Started upload task with ID: SG2UTRXE4SQCS3BGS45WTGEL\n",
      "2018-01-01 2018-03-31  starting!!...\n",
      "2018_1_3 effunet_demo_left2018_1_3\n",
      "Looking for TFRecord files...\n",
      "Running predictions...\n",
      "49/49 [==============================] - 69s 1s/step\n"
     ],
     "name": "stdout"
    },
    {
     "output_type": "stream",
     "text": [
      "100%|██████████| 49/49 [00:11<00:00,  4.31it/s]\n"
     ],
     "name": "stderr"
    },
    {
     "output_type": "stream",
     "text": [
      "WARNING:tensorflow:From /usr/local/lib/python3.7/dist-packages/tensorflow/python/compat/v2_compat.py:96: disable_resource_variables (from tensorflow.python.ops.variable_scope) is deprecated and will be removed in a future version.\n",
      "Instructions for updating:\n",
      "non-resource variables are not supported in the long term\n",
      "Started upload task with ID: CIFEFETD5VUQBMWFDEZGCHJJ\n",
      "2018-04-01 2018-06-30  starting!!...\n",
      "2018_2_3 effunet_demo_left2018_2_3\n",
      "Looking for TFRecord files...\n",
      "Running predictions...\n",
      "49/49 [==============================] - 60s 1s/step\n"
     ],
     "name": "stdout"
    },
    {
     "output_type": "stream",
     "text": [
      "100%|██████████| 49/49 [00:11<00:00,  4.42it/s]\n"
     ],
     "name": "stderr"
    },
    {
     "output_type": "stream",
     "text": [
      "WARNING:tensorflow:From /usr/local/lib/python3.7/dist-packages/tensorflow/python/compat/v2_compat.py:96: disable_resource_variables (from tensorflow.python.ops.variable_scope) is deprecated and will be removed in a future version.\n",
      "Instructions for updating:\n",
      "non-resource variables are not supported in the long term\n",
      "Started upload task with ID: EWADIDYOSUHMAWVJDCPRQGQQ\n",
      "2018-07-01 2018-09-30  starting!!...\n",
      "2018_3_3 effunet_demo_left2018_3_3\n",
      "Looking for TFRecord files...\n",
      "Running predictions...\n",
      "49/49 [==============================] - 70s 1s/step\n"
     ],
     "name": "stdout"
    },
    {
     "output_type": "stream",
     "text": [
      "100%|██████████| 49/49 [00:11<00:00,  4.39it/s]\n"
     ],
     "name": "stderr"
    },
    {
     "output_type": "stream",
     "text": [
      "WARNING:tensorflow:From /usr/local/lib/python3.7/dist-packages/tensorflow/python/compat/v2_compat.py:96: disable_resource_variables (from tensorflow.python.ops.variable_scope) is deprecated and will be removed in a future version.\n",
      "Instructions for updating:\n",
      "non-resource variables are not supported in the long term\n",
      "Started upload task with ID: OD3O3NB2U5DKH6IDPUUFRI6A\n",
      "2018-10-01 2018-12-31  starting!!...\n",
      "2018_4_3 effunet_demo_left2018_4_3\n",
      "Looking for TFRecord files...\n",
      "Running predictions...\n",
      "49/49 [==============================] - 63s 1s/step\n"
     ],
     "name": "stdout"
    },
    {
     "output_type": "stream",
     "text": [
      "100%|██████████| 49/49 [00:11<00:00,  4.35it/s]\n"
     ],
     "name": "stderr"
    },
    {
     "output_type": "stream",
     "text": [
      "WARNING:tensorflow:From /usr/local/lib/python3.7/dist-packages/tensorflow/python/compat/v2_compat.py:96: disable_resource_variables (from tensorflow.python.ops.variable_scope) is deprecated and will be removed in a future version.\n",
      "Instructions for updating:\n",
      "non-resource variables are not supported in the long term\n",
      "Started upload task with ID: YYRTYQBWVWH2ZWHHJDG355RM\n",
      "2019-01-01 2019-03-31  starting!!...\n",
      "2019_1_3 effunet_demo_left2019_1_3\n",
      "Looking for TFRecord files...\n",
      "Running predictions...\n",
      "49/49 [==============================] - 60s 1s/step\n"
     ],
     "name": "stdout"
    },
    {
     "output_type": "stream",
     "text": [
      "100%|██████████| 49/49 [00:11<00:00,  4.40it/s]\n"
     ],
     "name": "stderr"
    },
    {
     "output_type": "stream",
     "text": [
      "WARNING:tensorflow:From /usr/local/lib/python3.7/dist-packages/tensorflow/python/compat/v2_compat.py:96: disable_resource_variables (from tensorflow.python.ops.variable_scope) is deprecated and will be removed in a future version.\n",
      "Instructions for updating:\n",
      "non-resource variables are not supported in the long term\n",
      "Started upload task with ID: YNYGC7HVPEH7PLXMAVUIVGPK\n",
      "2019-04-01 2019-06-30  starting!!...\n",
      "2019_2_3 effunet_demo_left2019_2_3\n",
      "Looking for TFRecord files...\n",
      "Running predictions...\n",
      "49/49 [==============================] - 68s 1s/step\n"
     ],
     "name": "stdout"
    },
    {
     "output_type": "stream",
     "text": [
      "100%|██████████| 49/49 [00:11<00:00,  4.34it/s]\n"
     ],
     "name": "stderr"
    },
    {
     "output_type": "stream",
     "text": [
      "WARNING:tensorflow:From /usr/local/lib/python3.7/dist-packages/tensorflow/python/compat/v2_compat.py:96: disable_resource_variables (from tensorflow.python.ops.variable_scope) is deprecated and will be removed in a future version.\n",
      "Instructions for updating:\n",
      "non-resource variables are not supported in the long term\n",
      "Started upload task with ID: I4WLLRNNFOCPB6ENVZ6HSKGL\n",
      "2019-07-01 2019-09-30  starting!!...\n",
      "2019_3_3 effunet_demo_left2019_3_3\n",
      "Looking for TFRecord files...\n",
      "Running predictions...\n",
      "49/49 [==============================] - 59s 1s/step\n"
     ],
     "name": "stdout"
    },
    {
     "output_type": "stream",
     "text": [
      "100%|██████████| 49/49 [00:11<00:00,  4.23it/s]\n"
     ],
     "name": "stderr"
    },
    {
     "output_type": "stream",
     "text": [
      "WARNING:tensorflow:From /usr/local/lib/python3.7/dist-packages/tensorflow/python/compat/v2_compat.py:96: disable_resource_variables (from tensorflow.python.ops.variable_scope) is deprecated and will be removed in a future version.\n",
      "Instructions for updating:\n",
      "non-resource variables are not supported in the long term\n",
      "Started upload task with ID: TY23FH6DG4ZS4M37XKPIJAIF\n",
      "2019-10-01 2019-12-31  starting!!...\n",
      "2019_4_3 effunet_demo_left2019_4_3\n",
      "Looking for TFRecord files...\n",
      "Running predictions...\n",
      "49/49 [==============================] - 62s 1s/step\n"
     ],
     "name": "stdout"
    },
    {
     "output_type": "stream",
     "text": [
      "100%|██████████| 49/49 [00:11<00:00,  4.34it/s]\n"
     ],
     "name": "stderr"
    },
    {
     "output_type": "stream",
     "text": [
      "WARNING:tensorflow:From /usr/local/lib/python3.7/dist-packages/tensorflow/python/compat/v2_compat.py:96: disable_resource_variables (from tensorflow.python.ops.variable_scope) is deprecated and will be removed in a future version.\n",
      "Instructions for updating:\n",
      "non-resource variables are not supported in the long term\n",
      "Started upload task with ID: NIT6ZDMMITPYN4BN624GZQ6G\n",
      "2015-01-01 2015-03-31  starting!!...\n",
      "2015_1_4 effunet_demo_left2015_1_4\n",
      "Looking for TFRecord files...\n",
      "Running predictions...\n",
      "49/49 [==============================] - 55s 1s/step\n"
     ],
     "name": "stdout"
    },
    {
     "output_type": "stream",
     "text": [
      "100%|██████████| 49/49 [00:11<00:00,  4.38it/s]\n"
     ],
     "name": "stderr"
    },
    {
     "output_type": "stream",
     "text": [
      "WARNING:tensorflow:From /usr/local/lib/python3.7/dist-packages/tensorflow/python/compat/v2_compat.py:96: disable_resource_variables (from tensorflow.python.ops.variable_scope) is deprecated and will be removed in a future version.\n",
      "Instructions for updating:\n",
      "non-resource variables are not supported in the long term\n",
      "Started upload task with ID: MIJXHALMPCPL3LCTAB2246HL\n",
      "2015-04-01 2015-06-30  starting!!...\n",
      "2015_2_4 effunet_demo_left2015_2_4\n",
      "Looking for TFRecord files...\n",
      "Running predictions...\n",
      "49/49 [==============================] - 68s 1s/step\n"
     ],
     "name": "stdout"
    },
    {
     "output_type": "stream",
     "text": [
      "100%|██████████| 49/49 [00:11<00:00,  4.38it/s]\n"
     ],
     "name": "stderr"
    },
    {
     "output_type": "stream",
     "text": [
      "WARNING:tensorflow:From /usr/local/lib/python3.7/dist-packages/tensorflow/python/compat/v2_compat.py:96: disable_resource_variables (from tensorflow.python.ops.variable_scope) is deprecated and will be removed in a future version.\n",
      "Instructions for updating:\n",
      "non-resource variables are not supported in the long term\n",
      "Started upload task with ID: XJ5X5FHI6ZQFP76ECKAUVBOC\n",
      "2015-07-01 2015-09-30  starting!!...\n",
      "2015_3_4 effunet_demo_left2015_3_4\n",
      "Looking for TFRecord files...\n",
      "Running predictions...\n",
      "49/49 [==============================] - 72s 1s/step\n"
     ],
     "name": "stdout"
    },
    {
     "output_type": "stream",
     "text": [
      "100%|██████████| 49/49 [00:11<00:00,  4.39it/s]\n"
     ],
     "name": "stderr"
    },
    {
     "output_type": "stream",
     "text": [
      "WARNING:tensorflow:From /usr/local/lib/python3.7/dist-packages/tensorflow/python/compat/v2_compat.py:96: disable_resource_variables (from tensorflow.python.ops.variable_scope) is deprecated and will be removed in a future version.\n",
      "Instructions for updating:\n",
      "non-resource variables are not supported in the long term\n",
      "Started upload task with ID: UNF45QG7GKR522WOT3J3P5DB\n",
      "2015-10-01 2015-12-31  starting!!...\n",
      "2015_4_4 effunet_demo_left2015_4_4\n",
      "Looking for TFRecord files...\n",
      "Running predictions...\n",
      "49/49 [==============================] - 53s 1s/step\n"
     ],
     "name": "stdout"
    },
    {
     "output_type": "stream",
     "text": [
      "100%|██████████| 49/49 [00:11<00:00,  4.32it/s]\n"
     ],
     "name": "stderr"
    },
    {
     "output_type": "stream",
     "text": [
      "WARNING:tensorflow:From /usr/local/lib/python3.7/dist-packages/tensorflow/python/compat/v2_compat.py:96: disable_resource_variables (from tensorflow.python.ops.variable_scope) is deprecated and will be removed in a future version.\n",
      "Instructions for updating:\n",
      "non-resource variables are not supported in the long term\n",
      "Started upload task with ID: R2Z6ABFYCK27CXIFUKINF7EK\n",
      "2016-01-01 2016-03-31  starting!!...\n",
      "2016_1_4 effunet_demo_left2016_1_4\n",
      "Looking for TFRecord files...\n",
      "Running predictions...\n",
      "49/49 [==============================] - 61s 1s/step\n"
     ],
     "name": "stdout"
    },
    {
     "output_type": "stream",
     "text": [
      "100%|██████████| 49/49 [00:11<00:00,  4.39it/s]\n"
     ],
     "name": "stderr"
    },
    {
     "output_type": "stream",
     "text": [
      "WARNING:tensorflow:From /usr/local/lib/python3.7/dist-packages/tensorflow/python/compat/v2_compat.py:96: disable_resource_variables (from tensorflow.python.ops.variable_scope) is deprecated and will be removed in a future version.\n",
      "Instructions for updating:\n",
      "non-resource variables are not supported in the long term\n",
      "Started upload task with ID: Y5ULX2SWZV2UL5AJ7WLL2V4X\n",
      "2016-04-01 2016-06-30  starting!!...\n",
      "2016_2_4 effunet_demo_left2016_2_4\n",
      "Looking for TFRecord files...\n",
      "Running predictions...\n",
      "49/49 [==============================] - 70s 1s/step\n"
     ],
     "name": "stdout"
    },
    {
     "output_type": "stream",
     "text": [
      "100%|██████████| 49/49 [00:11<00:00,  4.42it/s]\n"
     ],
     "name": "stderr"
    },
    {
     "output_type": "stream",
     "text": [
      "WARNING:tensorflow:From /usr/local/lib/python3.7/dist-packages/tensorflow/python/compat/v2_compat.py:96: disable_resource_variables (from tensorflow.python.ops.variable_scope) is deprecated and will be removed in a future version.\n",
      "Instructions for updating:\n",
      "non-resource variables are not supported in the long term\n",
      "Started upload task with ID: XCBJFDH4POL7D3P6KOCWOIWF\n",
      "2016-07-01 2016-09-30  starting!!...\n",
      "2016_3_4 effunet_demo_left2016_3_4\n",
      "Looking for TFRecord files...\n",
      "Running predictions...\n",
      "49/49 [==============================] - 67s 1s/step\n"
     ],
     "name": "stdout"
    },
    {
     "output_type": "stream",
     "text": [
      "100%|██████████| 49/49 [00:11<00:00,  4.32it/s]\n"
     ],
     "name": "stderr"
    },
    {
     "output_type": "stream",
     "text": [
      "WARNING:tensorflow:From /usr/local/lib/python3.7/dist-packages/tensorflow/python/compat/v2_compat.py:96: disable_resource_variables (from tensorflow.python.ops.variable_scope) is deprecated and will be removed in a future version.\n",
      "Instructions for updating:\n",
      "non-resource variables are not supported in the long term\n",
      "Started upload task with ID: RMIBCRAPVEQBCPT3T4QPLH73\n",
      "2016-10-01 2016-12-31  starting!!...\n",
      "2016_4_4 effunet_demo_left2016_4_4\n",
      "Looking for TFRecord files...\n",
      "Running predictions...\n",
      "49/49 [==============================] - 52s 1s/step\n"
     ],
     "name": "stdout"
    },
    {
     "output_type": "stream",
     "text": [
      "100%|██████████| 49/49 [00:11<00:00,  4.34it/s]\n"
     ],
     "name": "stderr"
    },
    {
     "output_type": "stream",
     "text": [
      "WARNING:tensorflow:From /usr/local/lib/python3.7/dist-packages/tensorflow/python/compat/v2_compat.py:96: disable_resource_variables (from tensorflow.python.ops.variable_scope) is deprecated and will be removed in a future version.\n",
      "Instructions for updating:\n",
      "non-resource variables are not supported in the long term\n",
      "Started upload task with ID: 766U5UVKTGFRJM6GK7QNUFY7\n",
      "2017-01-01 2017-03-31  starting!!...\n",
      "2017_1_4 effunet_demo_left2017_1_4\n",
      "Looking for TFRecord files...\n",
      "Running predictions...\n",
      "49/49 [==============================] - 66s 1s/step\n"
     ],
     "name": "stdout"
    },
    {
     "output_type": "stream",
     "text": [
      "100%|██████████| 49/49 [00:11<00:00,  4.31it/s]\n"
     ],
     "name": "stderr"
    },
    {
     "output_type": "stream",
     "text": [
      "WARNING:tensorflow:From /usr/local/lib/python3.7/dist-packages/tensorflow/python/compat/v2_compat.py:96: disable_resource_variables (from tensorflow.python.ops.variable_scope) is deprecated and will be removed in a future version.\n",
      "Instructions for updating:\n",
      "non-resource variables are not supported in the long term\n",
      "Started upload task with ID: Q6QK2ADWRZMXI2MSYONV2RTX\n",
      "2017-04-01 2017-06-30  starting!!...\n",
      "2017_2_4 effunet_demo_left2017_2_4\n",
      "Looking for TFRecord files...\n",
      "Running predictions...\n",
      "49/49 [==============================] - 66s 1s/step\n"
     ],
     "name": "stdout"
    },
    {
     "output_type": "stream",
     "text": [
      "100%|██████████| 49/49 [00:11<00:00,  4.43it/s]\n"
     ],
     "name": "stderr"
    },
    {
     "output_type": "stream",
     "text": [
      "WARNING:tensorflow:From /usr/local/lib/python3.7/dist-packages/tensorflow/python/compat/v2_compat.py:96: disable_resource_variables (from tensorflow.python.ops.variable_scope) is deprecated and will be removed in a future version.\n",
      "Instructions for updating:\n",
      "non-resource variables are not supported in the long term\n",
      "Started upload task with ID: ENZ2X37A4FTPY7TERQ2YP3FO\n",
      "2017-07-01 2017-09-30  starting!!...\n",
      "2017_3_4 effunet_demo_left2017_3_4\n",
      "Looking for TFRecord files...\n",
      "Running predictions...\n",
      "49/49 [==============================] - 72s 1s/step\n"
     ],
     "name": "stdout"
    },
    {
     "output_type": "stream",
     "text": [
      "100%|██████████| 49/49 [00:11<00:00,  4.35it/s]\n"
     ],
     "name": "stderr"
    },
    {
     "output_type": "stream",
     "text": [
      "WARNING:tensorflow:From /usr/local/lib/python3.7/dist-packages/tensorflow/python/compat/v2_compat.py:96: disable_resource_variables (from tensorflow.python.ops.variable_scope) is deprecated and will be removed in a future version.\n",
      "Instructions for updating:\n",
      "non-resource variables are not supported in the long term\n",
      "Started upload task with ID: O3DI45ULIEATMEOLDSJRB7E6\n",
      "2017-10-01 2017-12-31  starting!!...\n",
      "2017_4_4 effunet_demo_left2017_4_4\n",
      "Looking for TFRecord files...\n",
      "Running predictions...\n",
      "49/49 [==============================] - 54s 1s/step\n"
     ],
     "name": "stdout"
    },
    {
     "output_type": "stream",
     "text": [
      "100%|██████████| 49/49 [00:11<00:00,  4.35it/s]\n"
     ],
     "name": "stderr"
    },
    {
     "output_type": "stream",
     "text": [
      "WARNING:tensorflow:From /usr/local/lib/python3.7/dist-packages/tensorflow/python/compat/v2_compat.py:96: disable_resource_variables (from tensorflow.python.ops.variable_scope) is deprecated and will be removed in a future version.\n",
      "Instructions for updating:\n",
      "non-resource variables are not supported in the long term\n",
      "Started upload task with ID: TL7GQI2BBFILN7UEVUGAOR55\n",
      "2018-01-01 2018-03-31  starting!!...\n",
      "2018_1_4 effunet_demo_left2018_1_4\n",
      "Looking for TFRecord files...\n",
      "Running predictions...\n",
      "49/49 [==============================] - 60s 1s/step\n"
     ],
     "name": "stdout"
    },
    {
     "output_type": "stream",
     "text": [
      "100%|██████████| 49/49 [00:11<00:00,  4.40it/s]\n"
     ],
     "name": "stderr"
    },
    {
     "output_type": "stream",
     "text": [
      "WARNING:tensorflow:From /usr/local/lib/python3.7/dist-packages/tensorflow/python/compat/v2_compat.py:96: disable_resource_variables (from tensorflow.python.ops.variable_scope) is deprecated and will be removed in a future version.\n",
      "Instructions for updating:\n",
      "non-resource variables are not supported in the long term\n",
      "Started upload task with ID: S5YR6Z5ZHL33NLPWVOJABNCT\n",
      "2018-04-01 2018-06-30  starting!!...\n",
      "2018_2_4 effunet_demo_left2018_2_4\n",
      "Looking for TFRecord files...\n",
      "Running predictions...\n",
      "49/49 [==============================] - 61s 1s/step\n"
     ],
     "name": "stdout"
    },
    {
     "output_type": "stream",
     "text": [
      "100%|██████████| 49/49 [00:11<00:00,  4.38it/s]\n"
     ],
     "name": "stderr"
    },
    {
     "output_type": "stream",
     "text": [
      "WARNING:tensorflow:From /usr/local/lib/python3.7/dist-packages/tensorflow/python/compat/v2_compat.py:96: disable_resource_variables (from tensorflow.python.ops.variable_scope) is deprecated and will be removed in a future version.\n",
      "Instructions for updating:\n",
      "non-resource variables are not supported in the long term\n",
      "Started upload task with ID: AOQ3MARB7NXW25RJTDQGD3WF\n",
      "2018-07-01 2018-09-30  starting!!...\n",
      "2018_3_4 effunet_demo_left2018_3_4\n",
      "Looking for TFRecord files...\n",
      "Running predictions...\n",
      "49/49 [==============================] - 67s 1s/step\n"
     ],
     "name": "stdout"
    },
    {
     "output_type": "stream",
     "text": [
      "100%|██████████| 49/49 [00:11<00:00,  4.37it/s]\n"
     ],
     "name": "stderr"
    },
    {
     "output_type": "stream",
     "text": [
      "WARNING:tensorflow:From /usr/local/lib/python3.7/dist-packages/tensorflow/python/compat/v2_compat.py:96: disable_resource_variables (from tensorflow.python.ops.variable_scope) is deprecated and will be removed in a future version.\n",
      "Instructions for updating:\n",
      "non-resource variables are not supported in the long term\n",
      "Started upload task with ID: WA75KZHS27NS44M2RZ6LOFHZ\n",
      "2018-10-01 2018-12-31  starting!!...\n",
      "2018_4_4 effunet_demo_left2018_4_4\n",
      "Looking for TFRecord files...\n",
      "Running predictions...\n",
      "49/49 [==============================] - 61s 1s/step\n"
     ],
     "name": "stdout"
    },
    {
     "output_type": "stream",
     "text": [
      "100%|██████████| 49/49 [00:11<00:00,  4.35it/s]\n"
     ],
     "name": "stderr"
    },
    {
     "output_type": "stream",
     "text": [
      "WARNING:tensorflow:From /usr/local/lib/python3.7/dist-packages/tensorflow/python/compat/v2_compat.py:96: disable_resource_variables (from tensorflow.python.ops.variable_scope) is deprecated and will be removed in a future version.\n",
      "Instructions for updating:\n",
      "non-resource variables are not supported in the long term\n",
      "Started upload task with ID: 2QBJMUJJVJTJTPZ37WEUCN6O\n",
      "2019-01-01 2019-03-31  starting!!...\n",
      "2019_1_4 effunet_demo_left2019_1_4\n",
      "Looking for TFRecord files...\n",
      "Running predictions...\n",
      "49/49 [==============================] - 64s 1s/step\n"
     ],
     "name": "stdout"
    },
    {
     "output_type": "stream",
     "text": [
      "100%|██████████| 49/49 [00:11<00:00,  4.30it/s]\n"
     ],
     "name": "stderr"
    },
    {
     "output_type": "stream",
     "text": [
      "WARNING:tensorflow:From /usr/local/lib/python3.7/dist-packages/tensorflow/python/compat/v2_compat.py:96: disable_resource_variables (from tensorflow.python.ops.variable_scope) is deprecated and will be removed in a future version.\n",
      "Instructions for updating:\n",
      "non-resource variables are not supported in the long term\n",
      "Started upload task with ID: 6TPW3GQ73I3K5LMQMDNIEXPN\n",
      "2019-04-01 2019-06-30  starting!!...\n",
      "2019_2_4 effunet_demo_left2019_2_4\n",
      "Looking for TFRecord files...\n",
      "Running predictions...\n",
      "49/49 [==============================] - 56s 1s/step\n"
     ],
     "name": "stdout"
    },
    {
     "output_type": "stream",
     "text": [
      "100%|██████████| 49/49 [00:11<00:00,  4.38it/s]\n"
     ],
     "name": "stderr"
    },
    {
     "output_type": "stream",
     "text": [
      "WARNING:tensorflow:From /usr/local/lib/python3.7/dist-packages/tensorflow/python/compat/v2_compat.py:96: disable_resource_variables (from tensorflow.python.ops.variable_scope) is deprecated and will be removed in a future version.\n",
      "Instructions for updating:\n",
      "non-resource variables are not supported in the long term\n",
      "Started upload task with ID: U3ZRYXGFLRZNFYMLAYRDQFUZ\n",
      "2019-07-01 2019-09-30  starting!!...\n",
      "2019_3_4 effunet_demo_left2019_3_4\n",
      "Looking for TFRecord files...\n",
      "Running predictions...\n",
      "49/49 [==============================] - 67s 1s/step\n"
     ],
     "name": "stdout"
    },
    {
     "output_type": "stream",
     "text": [
      "100%|██████████| 49/49 [00:11<00:00,  4.38it/s]\n"
     ],
     "name": "stderr"
    },
    {
     "output_type": "stream",
     "text": [
      "WARNING:tensorflow:From /usr/local/lib/python3.7/dist-packages/tensorflow/python/compat/v2_compat.py:96: disable_resource_variables (from tensorflow.python.ops.variable_scope) is deprecated and will be removed in a future version.\n",
      "Instructions for updating:\n",
      "non-resource variables are not supported in the long term\n",
      "Started upload task with ID: OVQ4BFRUDI53C7S336N5FGUU\n",
      "2019-10-01 2019-12-31  starting!!...\n",
      "2019_4_4 effunet_demo_left2019_4_4\n",
      "Looking for TFRecord files...\n",
      "Running predictions...\n",
      "49/49 [==============================] - 59s 1s/step\n"
     ],
     "name": "stdout"
    },
    {
     "output_type": "stream",
     "text": [
      "100%|██████████| 49/49 [00:11<00:00,  4.39it/s]\n"
     ],
     "name": "stderr"
    },
    {
     "output_type": "stream",
     "text": [
      "WARNING:tensorflow:From /usr/local/lib/python3.7/dist-packages/tensorflow/python/compat/v2_compat.py:96: disable_resource_variables (from tensorflow.python.ops.variable_scope) is deprecated and will be removed in a future version.\n",
      "Instructions for updating:\n",
      "non-resource variables are not supported in the long term\n",
      "Started upload task with ID: 5IEVRUWFH35HJ4ZSHL4SIC3M\n",
      "2015-01-01 2015-03-31  starting!!...\n",
      "2015_1_5 effunet_demo_left2015_1_5\n",
      "Looking for TFRecord files...\n",
      "Running predictions...\n",
      "49/49 [==============================] - 66s 1s/step\n"
     ],
     "name": "stdout"
    },
    {
     "output_type": "stream",
     "text": [
      "100%|██████████| 49/49 [00:11<00:00,  4.35it/s]\n"
     ],
     "name": "stderr"
    },
    {
     "output_type": "stream",
     "text": [
      "WARNING:tensorflow:From /usr/local/lib/python3.7/dist-packages/tensorflow/python/compat/v2_compat.py:96: disable_resource_variables (from tensorflow.python.ops.variable_scope) is deprecated and will be removed in a future version.\n",
      "Instructions for updating:\n",
      "non-resource variables are not supported in the long term\n",
      "Started upload task with ID: ABMNXPIYZBJNJPCIJZNOQXLK\n",
      "2015-04-01 2015-06-30  starting!!...\n",
      "2015_2_5 effunet_demo_left2015_2_5\n",
      "Looking for TFRecord files...\n",
      "Running predictions...\n",
      "49/49 [==============================] - 62s 1s/step\n"
     ],
     "name": "stdout"
    },
    {
     "output_type": "stream",
     "text": [
      "100%|██████████| 49/49 [00:11<00:00,  4.30it/s]\n"
     ],
     "name": "stderr"
    },
    {
     "output_type": "stream",
     "text": [
      "WARNING:tensorflow:From /usr/local/lib/python3.7/dist-packages/tensorflow/python/compat/v2_compat.py:96: disable_resource_variables (from tensorflow.python.ops.variable_scope) is deprecated and will be removed in a future version.\n",
      "Instructions for updating:\n",
      "non-resource variables are not supported in the long term\n",
      "Started upload task with ID: N25U5J6PEG3XXF2EPRJAJK2T\n",
      "2015-07-01 2015-09-30  starting!!...\n",
      "2015_3_5 effunet_demo_left2015_3_5\n",
      "Looking for TFRecord files...\n",
      "Running predictions...\n",
      "49/49 [==============================] - 51s 995ms/step\n"
     ],
     "name": "stdout"
    },
    {
     "output_type": "stream",
     "text": [
      "100%|██████████| 49/49 [00:11<00:00,  4.33it/s]\n"
     ],
     "name": "stderr"
    },
    {
     "output_type": "stream",
     "text": [
      "WARNING:tensorflow:From /usr/local/lib/python3.7/dist-packages/tensorflow/python/compat/v2_compat.py:96: disable_resource_variables (from tensorflow.python.ops.variable_scope) is deprecated and will be removed in a future version.\n",
      "Instructions for updating:\n",
      "non-resource variables are not supported in the long term\n",
      "Started upload task with ID: V4FRA35X6FHBSOJHLWCPOEZO\n",
      "2015-10-01 2015-12-31  starting!!...\n",
      "2015_4_5 effunet_demo_left2015_4_5\n",
      "Looking for TFRecord files...\n",
      "Running predictions...\n",
      "49/49 [==============================] - 50s 998ms/step\n"
     ],
     "name": "stdout"
    },
    {
     "output_type": "stream",
     "text": [
      "100%|██████████| 49/49 [00:11<00:00,  4.33it/s]\n"
     ],
     "name": "stderr"
    },
    {
     "output_type": "stream",
     "text": [
      "WARNING:tensorflow:From /usr/local/lib/python3.7/dist-packages/tensorflow/python/compat/v2_compat.py:96: disable_resource_variables (from tensorflow.python.ops.variable_scope) is deprecated and will be removed in a future version.\n",
      "Instructions for updating:\n",
      "non-resource variables are not supported in the long term\n",
      "Started upload task with ID: BOOFJDI4AMECVWQHXMQPTOBT\n",
      "2016-01-01 2016-03-31  starting!!...\n",
      "2016_1_5 effunet_demo_left2016_1_5\n",
      "Looking for TFRecord files...\n",
      "Running predictions...\n",
      "49/49 [==============================] - 48s 948ms/step\n"
     ],
     "name": "stdout"
    },
    {
     "output_type": "stream",
     "text": [
      "100%|██████████| 49/49 [00:11<00:00,  4.34it/s]\n"
     ],
     "name": "stderr"
    },
    {
     "output_type": "stream",
     "text": [
      "WARNING:tensorflow:From /usr/local/lib/python3.7/dist-packages/tensorflow/python/compat/v2_compat.py:96: disable_resource_variables (from tensorflow.python.ops.variable_scope) is deprecated and will be removed in a future version.\n",
      "Instructions for updating:\n",
      "non-resource variables are not supported in the long term\n",
      "Started upload task with ID: WUXMYYVFQ2HQGPGNTKHVO7VB\n",
      "2016-04-01 2016-06-30  starting!!...\n",
      "2016_2_5 effunet_demo_left2016_2_5\n",
      "Looking for TFRecord files...\n",
      "Running predictions...\n",
      "49/49 [==============================] - 56s 1s/step\n"
     ],
     "name": "stdout"
    },
    {
     "output_type": "stream",
     "text": [
      "100%|██████████| 49/49 [00:11<00:00,  4.38it/s]\n"
     ],
     "name": "stderr"
    },
    {
     "output_type": "stream",
     "text": [
      "WARNING:tensorflow:From /usr/local/lib/python3.7/dist-packages/tensorflow/python/compat/v2_compat.py:96: disable_resource_variables (from tensorflow.python.ops.variable_scope) is deprecated and will be removed in a future version.\n",
      "Instructions for updating:\n",
      "non-resource variables are not supported in the long term\n",
      "Started upload task with ID: OEWZQUAUJGJ6RBR4ANNRS4BL\n",
      "2016-07-01 2016-09-30  starting!!...\n",
      "2016_3_5 effunet_demo_left2016_3_5\n",
      "Looking for TFRecord files...\n",
      "Running predictions...\n",
      "49/49 [==============================] - 64s 1s/step\n"
     ],
     "name": "stdout"
    },
    {
     "output_type": "stream",
     "text": [
      "100%|██████████| 49/49 [00:11<00:00,  4.32it/s]\n"
     ],
     "name": "stderr"
    },
    {
     "output_type": "stream",
     "text": [
      "WARNING:tensorflow:From /usr/local/lib/python3.7/dist-packages/tensorflow/python/compat/v2_compat.py:96: disable_resource_variables (from tensorflow.python.ops.variable_scope) is deprecated and will be removed in a future version.\n",
      "Instructions for updating:\n",
      "non-resource variables are not supported in the long term\n",
      "Started upload task with ID: 65GQTDGPJB5JVXVG3FESMLHG\n",
      "2016-10-01 2016-12-31  starting!!...\n",
      "2016_4_5 effunet_demo_left2016_4_5\n",
      "Looking for TFRecord files...\n",
      "Running predictions...\n",
      "49/49 [==============================] - 54s 1s/step\n"
     ],
     "name": "stdout"
    },
    {
     "output_type": "stream",
     "text": [
      "100%|██████████| 49/49 [00:11<00:00,  4.37it/s]\n"
     ],
     "name": "stderr"
    },
    {
     "output_type": "stream",
     "text": [
      "WARNING:tensorflow:From /usr/local/lib/python3.7/dist-packages/tensorflow/python/compat/v2_compat.py:96: disable_resource_variables (from tensorflow.python.ops.variable_scope) is deprecated and will be removed in a future version.\n",
      "Instructions for updating:\n",
      "non-resource variables are not supported in the long term\n",
      "Started upload task with ID: 2OHO6RNLCIMFH7VFWRPUTGSY\n",
      "2017-01-01 2017-03-31  starting!!...\n",
      "2017_1_5 effunet_demo_left2017_1_5\n",
      "Looking for TFRecord files...\n",
      "Running predictions...\n",
      "49/49 [==============================] - 54s 1s/step\n"
     ],
     "name": "stdout"
    },
    {
     "output_type": "stream",
     "text": [
      "100%|██████████| 49/49 [00:11<00:00,  4.28it/s]\n"
     ],
     "name": "stderr"
    },
    {
     "output_type": "stream",
     "text": [
      "WARNING:tensorflow:From /usr/local/lib/python3.7/dist-packages/tensorflow/python/compat/v2_compat.py:96: disable_resource_variables (from tensorflow.python.ops.variable_scope) is deprecated and will be removed in a future version.\n",
      "Instructions for updating:\n",
      "non-resource variables are not supported in the long term\n",
      "Started upload task with ID: 2BRWWIKGLVAIX2D6R22I4G2V\n",
      "2017-04-01 2017-06-30  starting!!...\n",
      "2017_2_5 effunet_demo_left2017_2_5\n",
      "Looking for TFRecord files...\n",
      "Running predictions...\n",
      "49/49 [==============================] - 71s 1s/step\n"
     ],
     "name": "stdout"
    },
    {
     "output_type": "stream",
     "text": [
      "100%|██████████| 49/49 [00:11<00:00,  4.39it/s]\n"
     ],
     "name": "stderr"
    },
    {
     "output_type": "stream",
     "text": [
      "WARNING:tensorflow:From /usr/local/lib/python3.7/dist-packages/tensorflow/python/compat/v2_compat.py:96: disable_resource_variables (from tensorflow.python.ops.variable_scope) is deprecated and will be removed in a future version.\n",
      "Instructions for updating:\n",
      "non-resource variables are not supported in the long term\n",
      "Started upload task with ID: JJKVJNJDQOBUA66CRDKIZ725\n",
      "2017-07-01 2017-09-30  starting!!...\n",
      "2017_3_5 effunet_demo_left2017_3_5\n",
      "Looking for TFRecord files...\n",
      "Running predictions...\n",
      "49/49 [==============================] - 66s 1s/step\n"
     ],
     "name": "stdout"
    },
    {
     "output_type": "stream",
     "text": [
      "100%|██████████| 49/49 [00:11<00:00,  4.32it/s]\n"
     ],
     "name": "stderr"
    },
    {
     "output_type": "stream",
     "text": [
      "WARNING:tensorflow:From /usr/local/lib/python3.7/dist-packages/tensorflow/python/compat/v2_compat.py:96: disable_resource_variables (from tensorflow.python.ops.variable_scope) is deprecated and will be removed in a future version.\n",
      "Instructions for updating:\n",
      "non-resource variables are not supported in the long term\n",
      "Started upload task with ID: MFH2G7WEC2RAVJT7C46KK4HQ\n",
      "2017-10-01 2017-12-31  starting!!...\n",
      "2017_4_5 effunet_demo_left2017_4_5\n",
      "Looking for TFRecord files...\n",
      "Running predictions...\n",
      "49/49 [==============================] - 52s 1s/step\n"
     ],
     "name": "stdout"
    },
    {
     "output_type": "stream",
     "text": [
      "100%|██████████| 49/49 [00:11<00:00,  4.36it/s]\n"
     ],
     "name": "stderr"
    },
    {
     "output_type": "stream",
     "text": [
      "WARNING:tensorflow:From /usr/local/lib/python3.7/dist-packages/tensorflow/python/compat/v2_compat.py:96: disable_resource_variables (from tensorflow.python.ops.variable_scope) is deprecated and will be removed in a future version.\n",
      "Instructions for updating:\n",
      "non-resource variables are not supported in the long term\n",
      "Started upload task with ID: E3R2D7SRO2LWHRPBJCB7XEEY\n",
      "2018-01-01 2018-03-31  starting!!...\n",
      "2018_1_5 effunet_demo_left2018_1_5\n",
      "Looking for TFRecord files...\n",
      "Running predictions...\n",
      "49/49 [==============================] - 51s 1s/step\n"
     ],
     "name": "stdout"
    },
    {
     "output_type": "stream",
     "text": [
      "100%|██████████| 49/49 [00:11<00:00,  4.37it/s]\n"
     ],
     "name": "stderr"
    },
    {
     "output_type": "stream",
     "text": [
      "WARNING:tensorflow:From /usr/local/lib/python3.7/dist-packages/tensorflow/python/compat/v2_compat.py:96: disable_resource_variables (from tensorflow.python.ops.variable_scope) is deprecated and will be removed in a future version.\n",
      "Instructions for updating:\n",
      "non-resource variables are not supported in the long term\n",
      "Started upload task with ID: 7L6G55KDRTRZRKUSTY7HZUON\n",
      "2018-04-01 2018-06-30  starting!!...\n",
      "2018_2_5 effunet_demo_left2018_2_5\n",
      "Looking for TFRecord files...\n",
      "Running predictions...\n",
      "49/49 [==============================] - 70s 1s/step\n"
     ],
     "name": "stdout"
    },
    {
     "output_type": "stream",
     "text": [
      "100%|██████████| 49/49 [00:11<00:00,  4.27it/s]\n"
     ],
     "name": "stderr"
    },
    {
     "output_type": "stream",
     "text": [
      "WARNING:tensorflow:From /usr/local/lib/python3.7/dist-packages/tensorflow/python/compat/v2_compat.py:96: disable_resource_variables (from tensorflow.python.ops.variable_scope) is deprecated and will be removed in a future version.\n",
      "Instructions for updating:\n",
      "non-resource variables are not supported in the long term\n",
      "Started upload task with ID: 3YEVNHY2PB3V6JG4GULI3CGX\n",
      "2018-07-01 2018-09-30  starting!!...\n",
      "2018_3_5 effunet_demo_left2018_3_5\n",
      "Looking for TFRecord files...\n",
      "Running predictions...\n",
      "49/49 [==============================] - 62s 1s/step\n"
     ],
     "name": "stdout"
    },
    {
     "output_type": "stream",
     "text": [
      "100%|██████████| 49/49 [00:11<00:00,  4.30it/s]\n"
     ],
     "name": "stderr"
    },
    {
     "output_type": "stream",
     "text": [
      "WARNING:tensorflow:From /usr/local/lib/python3.7/dist-packages/tensorflow/python/compat/v2_compat.py:96: disable_resource_variables (from tensorflow.python.ops.variable_scope) is deprecated and will be removed in a future version.\n",
      "Instructions for updating:\n",
      "non-resource variables are not supported in the long term\n",
      "Started upload task with ID: 5MAK5UIR5VKDSMAKWOUZDHRQ\n",
      "2018-10-01 2018-12-31  starting!!...\n",
      "2018_4_5 effunet_demo_left2018_4_5\n",
      "Looking for TFRecord files...\n",
      "Running predictions...\n",
      "49/49 [==============================] - 51s 1s/step\n"
     ],
     "name": "stdout"
    },
    {
     "output_type": "stream",
     "text": [
      "100%|██████████| 49/49 [00:11<00:00,  4.28it/s]\n"
     ],
     "name": "stderr"
    },
    {
     "output_type": "stream",
     "text": [
      "WARNING:tensorflow:From /usr/local/lib/python3.7/dist-packages/tensorflow/python/compat/v2_compat.py:96: disable_resource_variables (from tensorflow.python.ops.variable_scope) is deprecated and will be removed in a future version.\n",
      "Instructions for updating:\n",
      "non-resource variables are not supported in the long term\n",
      "Started upload task with ID: D7JCESR3JQHLLI2ROCUT2MSP\n",
      "2019-01-01 2019-03-31  starting!!...\n",
      "2019_1_5 effunet_demo_left2019_1_5\n",
      "Looking for TFRecord files...\n",
      "Running predictions...\n",
      "49/49 [==============================] - 59s 1s/step\n"
     ],
     "name": "stdout"
    },
    {
     "output_type": "stream",
     "text": [
      "100%|██████████| 49/49 [00:11<00:00,  4.31it/s]\n"
     ],
     "name": "stderr"
    },
    {
     "output_type": "stream",
     "text": [
      "WARNING:tensorflow:From /usr/local/lib/python3.7/dist-packages/tensorflow/python/compat/v2_compat.py:96: disable_resource_variables (from tensorflow.python.ops.variable_scope) is deprecated and will be removed in a future version.\n",
      "Instructions for updating:\n",
      "non-resource variables are not supported in the long term\n",
      "Started upload task with ID: MNSPM7MXQKVZM7TXMKDEQRGT\n",
      "2019-04-01 2019-06-30  starting!!...\n",
      "2019_2_5 effunet_demo_left2019_2_5\n",
      "Looking for TFRecord files...\n",
      "Running predictions...\n",
      "49/49 [==============================] - 57s 1s/step\n"
     ],
     "name": "stdout"
    },
    {
     "output_type": "stream",
     "text": [
      "100%|██████████| 49/49 [00:11<00:00,  4.31it/s]\n"
     ],
     "name": "stderr"
    },
    {
     "output_type": "stream",
     "text": [
      "WARNING:tensorflow:From /usr/local/lib/python3.7/dist-packages/tensorflow/python/compat/v2_compat.py:96: disable_resource_variables (from tensorflow.python.ops.variable_scope) is deprecated and will be removed in a future version.\n",
      "Instructions for updating:\n",
      "non-resource variables are not supported in the long term\n",
      "Started upload task with ID: G7FTEMTO5KWE3SCWO33R4CNY\n",
      "2019-07-01 2019-09-30  starting!!...\n",
      "2019_3_5 effunet_demo_left2019_3_5\n",
      "Looking for TFRecord files...\n",
      "Running predictions...\n",
      "49/49 [==============================] - 57s 1s/step\n"
     ],
     "name": "stdout"
    },
    {
     "output_type": "stream",
     "text": [
      "100%|██████████| 49/49 [00:11<00:00,  4.24it/s]\n"
     ],
     "name": "stderr"
    },
    {
     "output_type": "stream",
     "text": [
      "WARNING:tensorflow:From /usr/local/lib/python3.7/dist-packages/tensorflow/python/compat/v2_compat.py:96: disable_resource_variables (from tensorflow.python.ops.variable_scope) is deprecated and will be removed in a future version.\n",
      "Instructions for updating:\n",
      "non-resource variables are not supported in the long term\n",
      "Started upload task with ID: X4WDT277SQAMXRAELD547UBH\n",
      "2019-10-01 2019-12-31  starting!!...\n",
      "2019_4_5 effunet_demo_left2019_4_5\n",
      "Looking for TFRecord files...\n",
      "Running predictions...\n",
      "49/49 [==============================] - 75s 2s/step\n"
     ],
     "name": "stdout"
    },
    {
     "output_type": "stream",
     "text": [
      "100%|██████████| 49/49 [00:11<00:00,  4.35it/s]\n"
     ],
     "name": "stderr"
    },
    {
     "output_type": "stream",
     "text": [
      "WARNING:tensorflow:From /usr/local/lib/python3.7/dist-packages/tensorflow/python/compat/v2_compat.py:96: disable_resource_variables (from tensorflow.python.ops.variable_scope) is deprecated and will be removed in a future version.\n",
      "Instructions for updating:\n",
      "non-resource variables are not supported in the long term\n",
      "Started upload task with ID: 4FYFI5MPNROA2QDIRYOAQNNY\n",
      "2015-01-01 2015-03-31  starting!!...\n",
      "2015_1_6 effunet_demo_left2015_1_6\n",
      "Looking for TFRecord files...\n",
      "Running predictions...\n",
      "49/49 [==============================] - 60s 1s/step\n"
     ],
     "name": "stdout"
    },
    {
     "output_type": "stream",
     "text": [
      "100%|██████████| 49/49 [00:11<00:00,  4.30it/s]\n"
     ],
     "name": "stderr"
    },
    {
     "output_type": "stream",
     "text": [
      "WARNING:tensorflow:From /usr/local/lib/python3.7/dist-packages/tensorflow/python/compat/v2_compat.py:96: disable_resource_variables (from tensorflow.python.ops.variable_scope) is deprecated and will be removed in a future version.\n",
      "Instructions for updating:\n",
      "non-resource variables are not supported in the long term\n",
      "Started upload task with ID: BK6SQXEN5SXPP3HM5RNRZTDT\n",
      "2015-04-01 2015-06-30  starting!!...\n",
      "2015_2_6 effunet_demo_left2015_2_6\n",
      "Looking for TFRecord files...\n",
      "Running predictions...\n",
      "49/49 [==============================] - 62s 1s/step\n"
     ],
     "name": "stdout"
    },
    {
     "output_type": "stream",
     "text": [
      "100%|██████████| 49/49 [00:11<00:00,  4.43it/s]\n"
     ],
     "name": "stderr"
    },
    {
     "output_type": "stream",
     "text": [
      "WARNING:tensorflow:From /usr/local/lib/python3.7/dist-packages/tensorflow/python/compat/v2_compat.py:96: disable_resource_variables (from tensorflow.python.ops.variable_scope) is deprecated and will be removed in a future version.\n",
      "Instructions for updating:\n",
      "non-resource variables are not supported in the long term\n",
      "Started upload task with ID: TGM4CWPCEFSX25IARKDXJKHD\n",
      "2015-07-01 2015-09-30  starting!!...\n",
      "2015_3_6 effunet_demo_left2015_3_6\n",
      "Looking for TFRecord files...\n",
      "Running predictions...\n",
      "49/49 [==============================] - 69s 1s/step\n"
     ],
     "name": "stdout"
    },
    {
     "output_type": "stream",
     "text": [
      "100%|██████████| 49/49 [00:11<00:00,  4.38it/s]\n"
     ],
     "name": "stderr"
    },
    {
     "output_type": "stream",
     "text": [
      "WARNING:tensorflow:From /usr/local/lib/python3.7/dist-packages/tensorflow/python/compat/v2_compat.py:96: disable_resource_variables (from tensorflow.python.ops.variable_scope) is deprecated and will be removed in a future version.\n",
      "Instructions for updating:\n",
      "non-resource variables are not supported in the long term\n",
      "Started upload task with ID: 2M5VXBCPYTT6XUPFGVX7DYFC\n",
      "2015-10-01 2015-12-31  starting!!...\n",
      "2015_4_6 effunet_demo_left2015_4_6\n",
      "Looking for TFRecord files...\n",
      "Running predictions...\n",
      "49/49 [==============================] - 59s 1s/step\n"
     ],
     "name": "stdout"
    },
    {
     "output_type": "stream",
     "text": [
      "100%|██████████| 49/49 [00:11<00:00,  4.35it/s]\n"
     ],
     "name": "stderr"
    },
    {
     "output_type": "stream",
     "text": [
      "WARNING:tensorflow:From /usr/local/lib/python3.7/dist-packages/tensorflow/python/compat/v2_compat.py:96: disable_resource_variables (from tensorflow.python.ops.variable_scope) is deprecated and will be removed in a future version.\n",
      "Instructions for updating:\n",
      "non-resource variables are not supported in the long term\n",
      "Started upload task with ID: HLRCRFXIEY47ILAMHXOLHFAV\n",
      "2016-01-01 2016-03-31  starting!!...\n",
      "2016_1_6 effunet_demo_left2016_1_6\n",
      "Looking for TFRecord files...\n",
      "Running predictions...\n",
      "49/49 [==============================] - 60s 1s/step\n"
     ],
     "name": "stdout"
    },
    {
     "output_type": "stream",
     "text": [
      "100%|██████████| 49/49 [00:11<00:00,  4.33it/s]\n"
     ],
     "name": "stderr"
    },
    {
     "output_type": "stream",
     "text": [
      "WARNING:tensorflow:From /usr/local/lib/python3.7/dist-packages/tensorflow/python/compat/v2_compat.py:96: disable_resource_variables (from tensorflow.python.ops.variable_scope) is deprecated and will be removed in a future version.\n",
      "Instructions for updating:\n",
      "non-resource variables are not supported in the long term\n",
      "Started upload task with ID: TXSWHVFNOTS54LBKVFKJRI4Q\n",
      "2016-04-01 2016-06-30  starting!!...\n",
      "2016_2_6 effunet_demo_left2016_2_6\n",
      "Looking for TFRecord files...\n",
      "Running predictions...\n",
      "49/49 [==============================] - 63s 1s/step\n"
     ],
     "name": "stdout"
    },
    {
     "output_type": "stream",
     "text": [
      "100%|██████████| 49/49 [00:11<00:00,  4.28it/s]\n"
     ],
     "name": "stderr"
    },
    {
     "output_type": "stream",
     "text": [
      "WARNING:tensorflow:From /usr/local/lib/python3.7/dist-packages/tensorflow/python/compat/v2_compat.py:96: disable_resource_variables (from tensorflow.python.ops.variable_scope) is deprecated and will be removed in a future version.\n",
      "Instructions for updating:\n",
      "non-resource variables are not supported in the long term\n",
      "Started upload task with ID: UFAVAOWUTSWO3KMYFPS7WKE4\n",
      "2016-07-01 2016-09-30  starting!!...\n",
      "2016_3_6 effunet_demo_left2016_3_6\n",
      "Looking for TFRecord files...\n",
      "Running predictions...\n",
      "49/49 [==============================] - 69s 1s/step\n"
     ],
     "name": "stdout"
    },
    {
     "output_type": "stream",
     "text": [
      "100%|██████████| 49/49 [00:11<00:00,  4.34it/s]\n"
     ],
     "name": "stderr"
    },
    {
     "output_type": "stream",
     "text": [
      "WARNING:tensorflow:From /usr/local/lib/python3.7/dist-packages/tensorflow/python/compat/v2_compat.py:96: disable_resource_variables (from tensorflow.python.ops.variable_scope) is deprecated and will be removed in a future version.\n",
      "Instructions for updating:\n",
      "non-resource variables are not supported in the long term\n",
      "Started upload task with ID: GM3UPSRTCD6B3M6IS4HF5PIM\n",
      "2016-10-01 2016-12-31  starting!!...\n",
      "2016_4_6 effunet_demo_left2016_4_6\n",
      "Looking for TFRecord files...\n",
      "Running predictions...\n",
      "49/49 [==============================] - 56s 1s/step\n"
     ],
     "name": "stdout"
    },
    {
     "output_type": "stream",
     "text": [
      "100%|██████████| 49/49 [00:11<00:00,  4.30it/s]\n"
     ],
     "name": "stderr"
    },
    {
     "output_type": "stream",
     "text": [
      "WARNING:tensorflow:From /usr/local/lib/python3.7/dist-packages/tensorflow/python/compat/v2_compat.py:96: disable_resource_variables (from tensorflow.python.ops.variable_scope) is deprecated and will be removed in a future version.\n",
      "Instructions for updating:\n",
      "non-resource variables are not supported in the long term\n",
      "Started upload task with ID: XXWLKKZXLARLPXG4OR7PM53Z\n",
      "2017-01-01 2017-03-31  starting!!...\n",
      "2017_1_6 effunet_demo_left2017_1_6\n",
      "Looking for TFRecord files...\n",
      "Running predictions...\n",
      "49/49 [==============================] - 61s 1s/step\n"
     ],
     "name": "stdout"
    },
    {
     "output_type": "stream",
     "text": [
      "100%|██████████| 49/49 [00:11<00:00,  4.38it/s]\n"
     ],
     "name": "stderr"
    },
    {
     "output_type": "stream",
     "text": [
      "WARNING:tensorflow:From /usr/local/lib/python3.7/dist-packages/tensorflow/python/compat/v2_compat.py:96: disable_resource_variables (from tensorflow.python.ops.variable_scope) is deprecated and will be removed in a future version.\n",
      "Instructions for updating:\n",
      "non-resource variables are not supported in the long term\n",
      "Started upload task with ID: U5V53B4ML5VOADLV43BTOHVW\n",
      "2017-04-01 2017-06-30  starting!!...\n",
      "2017_2_6 effunet_demo_left2017_2_6\n",
      "Looking for TFRecord files...\n",
      "Running predictions...\n",
      "49/49 [==============================] - 54s 1s/step\n"
     ],
     "name": "stdout"
    },
    {
     "output_type": "stream",
     "text": [
      "100%|██████████| 49/49 [00:11<00:00,  4.33it/s]\n"
     ],
     "name": "stderr"
    },
    {
     "output_type": "stream",
     "text": [
      "WARNING:tensorflow:From /usr/local/lib/python3.7/dist-packages/tensorflow/python/compat/v2_compat.py:96: disable_resource_variables (from tensorflow.python.ops.variable_scope) is deprecated and will be removed in a future version.\n",
      "Instructions for updating:\n",
      "non-resource variables are not supported in the long term\n",
      "Started upload task with ID: AQQOJUURSQCGWBIUGZ4DAMX2\n",
      "2017-07-01 2017-09-30  starting!!...\n",
      "2017_3_6 effunet_demo_left2017_3_6\n",
      "Looking for TFRecord files...\n",
      "Running predictions...\n",
      "49/49 [==============================] - 66s 1s/step\n"
     ],
     "name": "stdout"
    },
    {
     "output_type": "stream",
     "text": [
      "100%|██████████| 49/49 [00:11<00:00,  4.29it/s]\n"
     ],
     "name": "stderr"
    },
    {
     "output_type": "stream",
     "text": [
      "WARNING:tensorflow:From /usr/local/lib/python3.7/dist-packages/tensorflow/python/compat/v2_compat.py:96: disable_resource_variables (from tensorflow.python.ops.variable_scope) is deprecated and will be removed in a future version.\n",
      "Instructions for updating:\n",
      "non-resource variables are not supported in the long term\n",
      "Started upload task with ID: QIUVOTPTXELRTADGNFHTTETH\n",
      "2017-10-01 2017-12-31  starting!!...\n",
      "2017_4_6 effunet_demo_left2017_4_6\n",
      "Looking for TFRecord files...\n",
      "Running predictions...\n",
      "49/49 [==============================] - 63s 1s/step\n"
     ],
     "name": "stdout"
    },
    {
     "output_type": "stream",
     "text": [
      "100%|██████████| 49/49 [00:11<00:00,  4.30it/s]\n"
     ],
     "name": "stderr"
    },
    {
     "output_type": "stream",
     "text": [
      "WARNING:tensorflow:From /usr/local/lib/python3.7/dist-packages/tensorflow/python/compat/v2_compat.py:96: disable_resource_variables (from tensorflow.python.ops.variable_scope) is deprecated and will be removed in a future version.\n",
      "Instructions for updating:\n",
      "non-resource variables are not supported in the long term\n",
      "Started upload task with ID: KFVSUAKA4YPAZ67S6SXYSYKF\n",
      "2018-01-01 2018-03-31  starting!!...\n",
      "2018_1_6 effunet_demo_left2018_1_6\n",
      "Looking for TFRecord files...\n",
      "Running predictions...\n",
      "49/49 [==============================] - 61s 1s/step\n"
     ],
     "name": "stdout"
    },
    {
     "output_type": "stream",
     "text": [
      "100%|██████████| 49/49 [00:11<00:00,  4.30it/s]\n"
     ],
     "name": "stderr"
    },
    {
     "output_type": "stream",
     "text": [
      "WARNING:tensorflow:From /usr/local/lib/python3.7/dist-packages/tensorflow/python/compat/v2_compat.py:96: disable_resource_variables (from tensorflow.python.ops.variable_scope) is deprecated and will be removed in a future version.\n",
      "Instructions for updating:\n",
      "non-resource variables are not supported in the long term\n",
      "Started upload task with ID: VRER7NYR2EYLPRBFBHKQRGGR\n",
      "2018-04-01 2018-06-30  starting!!...\n",
      "2018_2_6 effunet_demo_left2018_2_6\n",
      "Looking for TFRecord files...\n",
      "Running predictions...\n",
      "49/49 [==============================] - 64s 1s/step\n"
     ],
     "name": "stdout"
    },
    {
     "output_type": "stream",
     "text": [
      "100%|██████████| 49/49 [00:11<00:00,  4.31it/s]\n"
     ],
     "name": "stderr"
    },
    {
     "output_type": "stream",
     "text": [
      "WARNING:tensorflow:From /usr/local/lib/python3.7/dist-packages/tensorflow/python/compat/v2_compat.py:96: disable_resource_variables (from tensorflow.python.ops.variable_scope) is deprecated and will be removed in a future version.\n",
      "Instructions for updating:\n",
      "non-resource variables are not supported in the long term\n",
      "Started upload task with ID: RHSQ3MUFCHX5EQYAXRUPKHLQ\n",
      "2018-07-01 2018-09-30  starting!!...\n",
      "2018_3_6 effunet_demo_left2018_3_6\n",
      "Looking for TFRecord files...\n",
      "Running predictions...\n",
      "49/49 [==============================] - 70s 1s/step\n"
     ],
     "name": "stdout"
    },
    {
     "output_type": "stream",
     "text": [
      "100%|██████████| 49/49 [00:11<00:00,  4.24it/s]\n"
     ],
     "name": "stderr"
    },
    {
     "output_type": "stream",
     "text": [
      "WARNING:tensorflow:From /usr/local/lib/python3.7/dist-packages/tensorflow/python/compat/v2_compat.py:96: disable_resource_variables (from tensorflow.python.ops.variable_scope) is deprecated and will be removed in a future version.\n",
      "Instructions for updating:\n",
      "non-resource variables are not supported in the long term\n",
      "Started upload task with ID: XP2PMAJOS7Y5FXBL5CM3SCEN\n",
      "2018-10-01 2018-12-31  starting!!...\n",
      "2018_4_6 effunet_demo_left2018_4_6\n",
      "Looking for TFRecord files...\n",
      "Running predictions...\n",
      "49/49 [==============================] - 63s 1s/step\n"
     ],
     "name": "stdout"
    },
    {
     "output_type": "stream",
     "text": [
      "100%|██████████| 49/49 [00:11<00:00,  4.36it/s]\n"
     ],
     "name": "stderr"
    },
    {
     "output_type": "stream",
     "text": [
      "WARNING:tensorflow:From /usr/local/lib/python3.7/dist-packages/tensorflow/python/compat/v2_compat.py:96: disable_resource_variables (from tensorflow.python.ops.variable_scope) is deprecated and will be removed in a future version.\n",
      "Instructions for updating:\n",
      "non-resource variables are not supported in the long term\n",
      "Started upload task with ID: 6IQV2YHSOC3RBDR6RWN4W7V5\n",
      "2019-01-01 2019-03-31  starting!!...\n",
      "2019_1_6 effunet_demo_left2019_1_6\n",
      "Looking for TFRecord files...\n",
      "Running predictions...\n",
      "49/49 [==============================] - 68s 1s/step\n"
     ],
     "name": "stdout"
    },
    {
     "output_type": "stream",
     "text": [
      "100%|██████████| 49/49 [00:11<00:00,  4.28it/s]\n"
     ],
     "name": "stderr"
    },
    {
     "output_type": "stream",
     "text": [
      "WARNING:tensorflow:From /usr/local/lib/python3.7/dist-packages/tensorflow/python/compat/v2_compat.py:96: disable_resource_variables (from tensorflow.python.ops.variable_scope) is deprecated and will be removed in a future version.\n",
      "Instructions for updating:\n",
      "non-resource variables are not supported in the long term\n",
      "Started upload task with ID: TT5JHFYA2EXQRHUK5CT2H2ME\n",
      "2019-04-01 2019-06-30  starting!!...\n",
      "2019_2_6 effunet_demo_left2019_2_6\n",
      "Looking for TFRecord files...\n",
      "Running predictions...\n",
      "49/49 [==============================] - 61s 1s/step\n"
     ],
     "name": "stdout"
    },
    {
     "output_type": "stream",
     "text": [
      "100%|██████████| 49/49 [00:11<00:00,  4.34it/s]\n"
     ],
     "name": "stderr"
    },
    {
     "output_type": "stream",
     "text": [
      "WARNING:tensorflow:From /usr/local/lib/python3.7/dist-packages/tensorflow/python/compat/v2_compat.py:96: disable_resource_variables (from tensorflow.python.ops.variable_scope) is deprecated and will be removed in a future version.\n",
      "Instructions for updating:\n",
      "non-resource variables are not supported in the long term\n",
      "Started upload task with ID: HTDNSXXIANZWGVCVUUDAZXKJ\n",
      "2019-07-01 2019-09-30  starting!!...\n",
      "2019_3_6 effunet_demo_left2019_3_6\n",
      "Looking for TFRecord files...\n",
      "Running predictions...\n",
      "49/49 [==============================] - 69s 1s/step\n"
     ],
     "name": "stdout"
    },
    {
     "output_type": "stream",
     "text": [
      "100%|██████████| 49/49 [00:11<00:00,  4.34it/s]\n"
     ],
     "name": "stderr"
    },
    {
     "output_type": "stream",
     "text": [
      "WARNING:tensorflow:From /usr/local/lib/python3.7/dist-packages/tensorflow/python/compat/v2_compat.py:96: disable_resource_variables (from tensorflow.python.ops.variable_scope) is deprecated and will be removed in a future version.\n",
      "Instructions for updating:\n",
      "non-resource variables are not supported in the long term\n",
      "Started upload task with ID: VCB74DGAHUCW6B4CLOIOPCAN\n",
      "2019-10-01 2019-12-31  starting!!...\n",
      "2019_4_6 effunet_demo_left2019_4_6\n",
      "Looking for TFRecord files...\n",
      "Running predictions...\n",
      "49/49 [==============================] - 61s 1s/step\n"
     ],
     "name": "stdout"
    },
    {
     "output_type": "stream",
     "text": [
      "100%|██████████| 49/49 [00:11<00:00,  4.31it/s]\n"
     ],
     "name": "stderr"
    },
    {
     "output_type": "stream",
     "text": [
      "WARNING:tensorflow:From /usr/local/lib/python3.7/dist-packages/tensorflow/python/compat/v2_compat.py:96: disable_resource_variables (from tensorflow.python.ops.variable_scope) is deprecated and will be removed in a future version.\n",
      "Instructions for updating:\n",
      "non-resource variables are not supported in the long term\n",
      "Started upload task with ID: ZDGVYA654G4DJZPIFLJFJ6RZ\n",
      "2015-01-01 2015-03-31  starting!!...\n",
      "2015_1_7 effunet_demo_left2015_1_7\n",
      "Looking for TFRecord files...\n",
      "Running predictions...\n",
      "49/49 [==============================] - 63s 1s/step\n"
     ],
     "name": "stdout"
    },
    {
     "output_type": "stream",
     "text": [
      "100%|██████████| 49/49 [00:11<00:00,  4.28it/s]\n"
     ],
     "name": "stderr"
    },
    {
     "output_type": "stream",
     "text": [
      "WARNING:tensorflow:From /usr/local/lib/python3.7/dist-packages/tensorflow/python/compat/v2_compat.py:96: disable_resource_variables (from tensorflow.python.ops.variable_scope) is deprecated and will be removed in a future version.\n",
      "Instructions for updating:\n",
      "non-resource variables are not supported in the long term\n",
      "Started upload task with ID: XMOSPHFZ3JUMKDUXK72TOVJK\n",
      "2015-04-01 2015-06-30  starting!!...\n",
      "2015_2_7 effunet_demo_left2015_2_7\n",
      "Looking for TFRecord files...\n",
      "Running predictions...\n",
      "49/49 [==============================] - 68s 1s/step\n"
     ],
     "name": "stdout"
    },
    {
     "output_type": "stream",
     "text": [
      "100%|██████████| 49/49 [00:11<00:00,  4.35it/s]\n"
     ],
     "name": "stderr"
    },
    {
     "output_type": "stream",
     "text": [
      "WARNING:tensorflow:From /usr/local/lib/python3.7/dist-packages/tensorflow/python/compat/v2_compat.py:96: disable_resource_variables (from tensorflow.python.ops.variable_scope) is deprecated and will be removed in a future version.\n",
      "Instructions for updating:\n",
      "non-resource variables are not supported in the long term\n",
      "Started upload task with ID: BNQLRPPOZ5LMBXVG4XV35GWL\n",
      "2015-07-01 2015-09-30  starting!!...\n",
      "2015_3_7 effunet_demo_left2015_3_7\n",
      "Looking for TFRecord files...\n",
      "Running predictions...\n",
      "49/49 [==============================] - 56s 1s/step\n"
     ],
     "name": "stdout"
    },
    {
     "output_type": "stream",
     "text": [
      "100%|██████████| 49/49 [00:11<00:00,  4.35it/s]\n"
     ],
     "name": "stderr"
    },
    {
     "output_type": "stream",
     "text": [
      "WARNING:tensorflow:From /usr/local/lib/python3.7/dist-packages/tensorflow/python/compat/v2_compat.py:96: disable_resource_variables (from tensorflow.python.ops.variable_scope) is deprecated and will be removed in a future version.\n",
      "Instructions for updating:\n",
      "non-resource variables are not supported in the long term\n",
      "Started upload task with ID: BT3R2LUQMSYI3O7KW2HAQYSF\n",
      "2015-10-01 2015-12-31  starting!!...\n",
      "2015_4_7 effunet_demo_left2015_4_7\n",
      "Looking for TFRecord files...\n",
      "Running predictions...\n",
      "49/49 [==============================] - 64s 1s/step\n"
     ],
     "name": "stdout"
    },
    {
     "output_type": "stream",
     "text": [
      "100%|██████████| 49/49 [00:11<00:00,  4.37it/s]\n"
     ],
     "name": "stderr"
    },
    {
     "output_type": "stream",
     "text": [
      "WARNING:tensorflow:From /usr/local/lib/python3.7/dist-packages/tensorflow/python/compat/v2_compat.py:96: disable_resource_variables (from tensorflow.python.ops.variable_scope) is deprecated and will be removed in a future version.\n",
      "Instructions for updating:\n",
      "non-resource variables are not supported in the long term\n",
      "Started upload task with ID: AAIKHPXRFC5OVCVORCYGRELJ\n",
      "2016-01-01 2016-03-31  starting!!...\n",
      "2016_1_7 effunet_demo_left2016_1_7\n",
      "Looking for TFRecord files...\n",
      "Running predictions...\n",
      "49/49 [==============================] - 57s 1s/step\n"
     ],
     "name": "stdout"
    },
    {
     "output_type": "stream",
     "text": [
      "100%|██████████| 49/49 [00:11<00:00,  4.30it/s]\n"
     ],
     "name": "stderr"
    },
    {
     "output_type": "stream",
     "text": [
      "WARNING:tensorflow:From /usr/local/lib/python3.7/dist-packages/tensorflow/python/compat/v2_compat.py:96: disable_resource_variables (from tensorflow.python.ops.variable_scope) is deprecated and will be removed in a future version.\n",
      "Instructions for updating:\n",
      "non-resource variables are not supported in the long term\n",
      "Started upload task with ID: DZ34IBJQQES3IL676OXMQ5HJ\n",
      "2016-04-01 2016-06-30  starting!!...\n",
      "2016_2_7 effunet_demo_left2016_2_7\n",
      "Looking for TFRecord files...\n",
      "Running predictions...\n",
      "49/49 [==============================] - 59s 1s/step\n"
     ],
     "name": "stdout"
    },
    {
     "output_type": "stream",
     "text": [
      "100%|██████████| 49/49 [00:11<00:00,  4.31it/s]\n"
     ],
     "name": "stderr"
    },
    {
     "output_type": "stream",
     "text": [
      "WARNING:tensorflow:From /usr/local/lib/python3.7/dist-packages/tensorflow/python/compat/v2_compat.py:96: disable_resource_variables (from tensorflow.python.ops.variable_scope) is deprecated and will be removed in a future version.\n",
      "Instructions for updating:\n",
      "non-resource variables are not supported in the long term\n",
      "Started upload task with ID: 6KA46U3OVMGWTZFKNZGLO5WS\n",
      "2016-07-01 2016-09-30  starting!!...\n",
      "2016_3_7 effunet_demo_left2016_3_7\n",
      "Looking for TFRecord files...\n",
      "Running predictions...\n",
      "49/49 [==============================] - 73s 1s/step\n"
     ],
     "name": "stdout"
    },
    {
     "output_type": "stream",
     "text": [
      "100%|██████████| 49/49 [00:11<00:00,  4.30it/s]\n"
     ],
     "name": "stderr"
    },
    {
     "output_type": "stream",
     "text": [
      "WARNING:tensorflow:From /usr/local/lib/python3.7/dist-packages/tensorflow/python/compat/v2_compat.py:96: disable_resource_variables (from tensorflow.python.ops.variable_scope) is deprecated and will be removed in a future version.\n",
      "Instructions for updating:\n",
      "non-resource variables are not supported in the long term\n",
      "Started upload task with ID: 4RIYSY36IRYJERJNO7DJ2WVW\n",
      "2016-10-01 2016-12-31  starting!!...\n",
      "2016_4_7 effunet_demo_left2016_4_7\n",
      "Looking for TFRecord files...\n",
      "Running predictions...\n",
      "49/49 [==============================] - 54s 1s/step\n"
     ],
     "name": "stdout"
    },
    {
     "output_type": "stream",
     "text": [
      "100%|██████████| 49/49 [00:11<00:00,  4.34it/s]\n"
     ],
     "name": "stderr"
    },
    {
     "output_type": "stream",
     "text": [
      "WARNING:tensorflow:From /usr/local/lib/python3.7/dist-packages/tensorflow/python/compat/v2_compat.py:96: disable_resource_variables (from tensorflow.python.ops.variable_scope) is deprecated and will be removed in a future version.\n",
      "Instructions for updating:\n",
      "non-resource variables are not supported in the long term\n",
      "Started upload task with ID: W6RHTUIWDTDBNXLGVYCMS4RC\n",
      "2017-01-01 2017-03-31  starting!!...\n",
      "2017_1_7 effunet_demo_left2017_1_7\n",
      "Looking for TFRecord files...\n",
      "Running predictions...\n",
      "49/49 [==============================] - 72s 1s/step\n"
     ],
     "name": "stdout"
    },
    {
     "output_type": "stream",
     "text": [
      "100%|██████████| 49/49 [00:11<00:00,  4.32it/s]\n"
     ],
     "name": "stderr"
    },
    {
     "output_type": "stream",
     "text": [
      "WARNING:tensorflow:From /usr/local/lib/python3.7/dist-packages/tensorflow/python/compat/v2_compat.py:96: disable_resource_variables (from tensorflow.python.ops.variable_scope) is deprecated and will be removed in a future version.\n",
      "Instructions for updating:\n",
      "non-resource variables are not supported in the long term\n",
      "Started upload task with ID: CTV4CYD3MJOKDLRRDFLKHXAV\n",
      "2017-04-01 2017-06-30  starting!!...\n",
      "2017_2_7 effunet_demo_left2017_2_7\n",
      "Looking for TFRecord files...\n",
      "Running predictions...\n",
      "49/49 [==============================] - 61s 1s/step\n"
     ],
     "name": "stdout"
    },
    {
     "output_type": "stream",
     "text": [
      "100%|██████████| 49/49 [00:11<00:00,  4.31it/s]\n"
     ],
     "name": "stderr"
    },
    {
     "output_type": "stream",
     "text": [
      "WARNING:tensorflow:From /usr/local/lib/python3.7/dist-packages/tensorflow/python/compat/v2_compat.py:96: disable_resource_variables (from tensorflow.python.ops.variable_scope) is deprecated and will be removed in a future version.\n",
      "Instructions for updating:\n",
      "non-resource variables are not supported in the long term\n",
      "Started upload task with ID: CS4JC67YQLNJCQ4XRIDPDIB3\n",
      "2017-07-01 2017-09-30  starting!!...\n",
      "2017_3_7 effunet_demo_left2017_3_7\n",
      "Looking for TFRecord files...\n",
      "Running predictions...\n",
      "49/49 [==============================] - 67s 1s/step\n"
     ],
     "name": "stdout"
    },
    {
     "output_type": "stream",
     "text": [
      "100%|██████████| 49/49 [00:11<00:00,  4.37it/s]\n"
     ],
     "name": "stderr"
    },
    {
     "output_type": "stream",
     "text": [
      "WARNING:tensorflow:From /usr/local/lib/python3.7/dist-packages/tensorflow/python/compat/v2_compat.py:96: disable_resource_variables (from tensorflow.python.ops.variable_scope) is deprecated and will be removed in a future version.\n",
      "Instructions for updating:\n",
      "non-resource variables are not supported in the long term\n",
      "Started upload task with ID: AVYURYPQN62G63XJ5VTUFROL\n",
      "2017-10-01 2017-12-31  starting!!...\n",
      "2017_4_7 effunet_demo_left2017_4_7\n",
      "Looking for TFRecord files...\n",
      "Running predictions...\n",
      "49/49 [==============================] - 60s 1s/step\n"
     ],
     "name": "stdout"
    },
    {
     "output_type": "stream",
     "text": [
      "100%|██████████| 49/49 [00:11<00:00,  4.30it/s]\n"
     ],
     "name": "stderr"
    },
    {
     "output_type": "stream",
     "text": [
      "WARNING:tensorflow:From /usr/local/lib/python3.7/dist-packages/tensorflow/python/compat/v2_compat.py:96: disable_resource_variables (from tensorflow.python.ops.variable_scope) is deprecated and will be removed in a future version.\n",
      "Instructions for updating:\n",
      "non-resource variables are not supported in the long term\n",
      "Started upload task with ID: ON2VDMWDA7IE7CATRIQHLD27\n",
      "2018-01-01 2018-03-31  starting!!...\n",
      "2018_1_7 effunet_demo_left2018_1_7\n",
      "Looking for TFRecord files...\n",
      "Running predictions...\n",
      "49/49 [==============================] - 65s 1s/step\n"
     ],
     "name": "stdout"
    },
    {
     "output_type": "stream",
     "text": [
      "100%|██████████| 49/49 [00:11<00:00,  4.29it/s]\n"
     ],
     "name": "stderr"
    },
    {
     "output_type": "stream",
     "text": [
      "WARNING:tensorflow:From /usr/local/lib/python3.7/dist-packages/tensorflow/python/compat/v2_compat.py:96: disable_resource_variables (from tensorflow.python.ops.variable_scope) is deprecated and will be removed in a future version.\n",
      "Instructions for updating:\n",
      "non-resource variables are not supported in the long term\n",
      "Started upload task with ID: LGIGO3NE64TWBTBPKHFTPZMB\n",
      "2018-04-01 2018-06-30  starting!!...\n",
      "2018_2_7 effunet_demo_left2018_2_7\n",
      "Looking for TFRecord files...\n",
      "Running predictions...\n",
      "49/49 [==============================] - 63s 1s/step\n"
     ],
     "name": "stdout"
    },
    {
     "output_type": "stream",
     "text": [
      "100%|██████████| 49/49 [00:11<00:00,  4.22it/s]\n"
     ],
     "name": "stderr"
    },
    {
     "output_type": "stream",
     "text": [
      "WARNING:tensorflow:From /usr/local/lib/python3.7/dist-packages/tensorflow/python/compat/v2_compat.py:96: disable_resource_variables (from tensorflow.python.ops.variable_scope) is deprecated and will be removed in a future version.\n",
      "Instructions for updating:\n",
      "non-resource variables are not supported in the long term\n",
      "Started upload task with ID: DBY5SWJCYF5UHW4WLNYGOISE\n",
      "2018-07-01 2018-09-30  starting!!...\n",
      "2018_3_7 effunet_demo_left2018_3_7\n",
      "Looking for TFRecord files...\n",
      "Running predictions...\n",
      "49/49 [==============================] - 61s 1s/step\n"
     ],
     "name": "stdout"
    },
    {
     "output_type": "stream",
     "text": [
      "100%|██████████| 49/49 [00:11<00:00,  4.39it/s]\n"
     ],
     "name": "stderr"
    },
    {
     "output_type": "stream",
     "text": [
      "WARNING:tensorflow:From /usr/local/lib/python3.7/dist-packages/tensorflow/python/compat/v2_compat.py:96: disable_resource_variables (from tensorflow.python.ops.variable_scope) is deprecated and will be removed in a future version.\n",
      "Instructions for updating:\n",
      "non-resource variables are not supported in the long term\n",
      "Started upload task with ID: I322XZYMG6SYDYGBSR45GYKQ\n",
      "2018-10-01 2018-12-31  starting!!...\n",
      "2018_4_7 effunet_demo_left2018_4_7\n",
      "Looking for TFRecord files...\n",
      "Running predictions...\n",
      "49/49 [==============================] - 58s 1s/step\n"
     ],
     "name": "stdout"
    },
    {
     "output_type": "stream",
     "text": [
      "100%|██████████| 49/49 [00:11<00:00,  4.32it/s]\n"
     ],
     "name": "stderr"
    },
    {
     "output_type": "stream",
     "text": [
      "WARNING:tensorflow:From /usr/local/lib/python3.7/dist-packages/tensorflow/python/compat/v2_compat.py:96: disable_resource_variables (from tensorflow.python.ops.variable_scope) is deprecated and will be removed in a future version.\n",
      "Instructions for updating:\n",
      "non-resource variables are not supported in the long term\n",
      "Started upload task with ID: VJFZVBXRRBWRO3XVRKHPCVQF\n",
      "2019-01-01 2019-03-31  starting!!...\n",
      "2019_1_7 effunet_demo_left2019_1_7\n",
      "Looking for TFRecord files...\n",
      "Running predictions...\n",
      "49/49 [==============================] - 69s 1s/step\n"
     ],
     "name": "stdout"
    },
    {
     "output_type": "stream",
     "text": [
      "100%|██████████| 49/49 [00:11<00:00,  4.31it/s]\n"
     ],
     "name": "stderr"
    },
    {
     "output_type": "stream",
     "text": [
      "WARNING:tensorflow:From /usr/local/lib/python3.7/dist-packages/tensorflow/python/compat/v2_compat.py:96: disable_resource_variables (from tensorflow.python.ops.variable_scope) is deprecated and will be removed in a future version.\n",
      "Instructions for updating:\n",
      "non-resource variables are not supported in the long term\n",
      "Started upload task with ID: LXACU4QZ4NDGO4VTG4OMXBQE\n",
      "2019-04-01 2019-06-30  starting!!...\n",
      "2019_2_7 effunet_demo_left2019_2_7\n",
      "Looking for TFRecord files...\n",
      "Running predictions...\n",
      "49/49 [==============================] - 60s 1s/step\n"
     ],
     "name": "stdout"
    },
    {
     "output_type": "stream",
     "text": [
      "100%|██████████| 49/49 [00:11<00:00,  4.32it/s]\n"
     ],
     "name": "stderr"
    },
    {
     "output_type": "stream",
     "text": [
      "WARNING:tensorflow:From /usr/local/lib/python3.7/dist-packages/tensorflow/python/compat/v2_compat.py:96: disable_resource_variables (from tensorflow.python.ops.variable_scope) is deprecated and will be removed in a future version.\n",
      "Instructions for updating:\n",
      "non-resource variables are not supported in the long term\n",
      "Started upload task with ID: SITYHALGJ5ZQKFJV32V3ZQTE\n",
      "2019-07-01 2019-09-30  starting!!...\n",
      "2019_3_7 effunet_demo_left2019_3_7\n",
      "Looking for TFRecord files...\n",
      "Running predictions...\n",
      "49/49 [==============================] - 68s 1s/step\n"
     ],
     "name": "stdout"
    },
    {
     "output_type": "stream",
     "text": [
      "100%|██████████| 49/49 [00:11<00:00,  4.30it/s]\n"
     ],
     "name": "stderr"
    },
    {
     "output_type": "stream",
     "text": [
      "WARNING:tensorflow:From /usr/local/lib/python3.7/dist-packages/tensorflow/python/compat/v2_compat.py:96: disable_resource_variables (from tensorflow.python.ops.variable_scope) is deprecated and will be removed in a future version.\n",
      "Instructions for updating:\n",
      "non-resource variables are not supported in the long term\n",
      "Started upload task with ID: MXA5CU4AQHHYWPYKE726DJ52\n",
      "2019-10-01 2019-12-31  starting!!...\n",
      "2019_4_7 effunet_demo_left2019_4_7\n",
      "Looking for TFRecord files...\n",
      "Running predictions...\n",
      "49/49 [==============================] - 53s 1s/step\n"
     ],
     "name": "stdout"
    },
    {
     "output_type": "stream",
     "text": [
      "100%|██████████| 49/49 [00:11<00:00,  4.33it/s]\n"
     ],
     "name": "stderr"
    },
    {
     "output_type": "stream",
     "text": [
      "WARNING:tensorflow:From /usr/local/lib/python3.7/dist-packages/tensorflow/python/compat/v2_compat.py:96: disable_resource_variables (from tensorflow.python.ops.variable_scope) is deprecated and will be removed in a future version.\n",
      "Instructions for updating:\n",
      "non-resource variables are not supported in the long term\n",
      "Started upload task with ID: S7VJH5UJ3P7BDY34E5R45YYF\n",
      "2015-01-01 2015-03-31  starting!!...\n",
      "2015_1_8 effunet_demo_left2015_1_8\n",
      "Looking for TFRecord files...\n",
      "Running predictions...\n",
      "49/49 [==============================] - 55s 1s/step\n"
     ],
     "name": "stdout"
    },
    {
     "output_type": "stream",
     "text": [
      "100%|██████████| 49/49 [00:11<00:00,  4.32it/s]\n"
     ],
     "name": "stderr"
    },
    {
     "output_type": "stream",
     "text": [
      "WARNING:tensorflow:From /usr/local/lib/python3.7/dist-packages/tensorflow/python/compat/v2_compat.py:96: disable_resource_variables (from tensorflow.python.ops.variable_scope) is deprecated and will be removed in a future version.\n",
      "Instructions for updating:\n",
      "non-resource variables are not supported in the long term\n",
      "Started upload task with ID: HC4JIC3G2AOF72L25AS6EP3K\n",
      "2015-04-01 2015-06-30  starting!!...\n",
      "2015_2_8 effunet_demo_left2015_2_8\n",
      "Looking for TFRecord files...\n",
      "Running predictions...\n",
      "49/49 [==============================] - 62s 1s/step\n"
     ],
     "name": "stdout"
    },
    {
     "output_type": "stream",
     "text": [
      "100%|██████████| 49/49 [00:11<00:00,  4.29it/s]\n"
     ],
     "name": "stderr"
    },
    {
     "output_type": "stream",
     "text": [
      "WARNING:tensorflow:From /usr/local/lib/python3.7/dist-packages/tensorflow/python/compat/v2_compat.py:96: disable_resource_variables (from tensorflow.python.ops.variable_scope) is deprecated and will be removed in a future version.\n",
      "Instructions for updating:\n",
      "non-resource variables are not supported in the long term\n",
      "Started upload task with ID: OB4VE6ALRAKNBATX4V74ZMA5\n",
      "2015-07-01 2015-09-30  starting!!...\n",
      "2015_3_8 effunet_demo_left2015_3_8\n",
      "Looking for TFRecord files...\n",
      "Running predictions...\n",
      "49/49 [==============================] - 55s 1s/step\n"
     ],
     "name": "stdout"
    },
    {
     "output_type": "stream",
     "text": [
      "100%|██████████| 49/49 [00:11<00:00,  4.32it/s]\n"
     ],
     "name": "stderr"
    },
    {
     "output_type": "stream",
     "text": [
      "WARNING:tensorflow:From /usr/local/lib/python3.7/dist-packages/tensorflow/python/compat/v2_compat.py:96: disable_resource_variables (from tensorflow.python.ops.variable_scope) is deprecated and will be removed in a future version.\n",
      "Instructions for updating:\n",
      "non-resource variables are not supported in the long term\n",
      "Started upload task with ID: HK5XGTGRYTS3OHOX7DTTAKBT\n",
      "2015-10-01 2015-12-31  starting!!...\n",
      "2015_4_8 effunet_demo_left2015_4_8\n",
      "Looking for TFRecord files...\n",
      "Running predictions...\n",
      "49/49 [==============================] - 62s 1s/step\n"
     ],
     "name": "stdout"
    },
    {
     "output_type": "stream",
     "text": [
      "100%|██████████| 49/49 [00:11<00:00,  4.31it/s]\n"
     ],
     "name": "stderr"
    },
    {
     "output_type": "stream",
     "text": [
      "WARNING:tensorflow:From /usr/local/lib/python3.7/dist-packages/tensorflow/python/compat/v2_compat.py:96: disable_resource_variables (from tensorflow.python.ops.variable_scope) is deprecated and will be removed in a future version.\n",
      "Instructions for updating:\n",
      "non-resource variables are not supported in the long term\n",
      "Started upload task with ID: UD4UUAJ2AZCXLEWF4EJLOFQF\n",
      "2016-01-01 2016-03-31  starting!!...\n",
      "2016_1_8 effunet_demo_left2016_1_8\n",
      "Looking for TFRecord files...\n",
      "Running predictions...\n",
      "49/49 [==============================] - 66s 1s/step\n"
     ],
     "name": "stdout"
    },
    {
     "output_type": "stream",
     "text": [
      "100%|██████████| 49/49 [00:11<00:00,  4.35it/s]\n"
     ],
     "name": "stderr"
    },
    {
     "output_type": "stream",
     "text": [
      "WARNING:tensorflow:From /usr/local/lib/python3.7/dist-packages/tensorflow/python/compat/v2_compat.py:96: disable_resource_variables (from tensorflow.python.ops.variable_scope) is deprecated and will be removed in a future version.\n",
      "Instructions for updating:\n",
      "non-resource variables are not supported in the long term\n",
      "Started upload task with ID: COXBUSTV5IMOHFVATEQQMDT6\n",
      "2016-04-01 2016-06-30  starting!!...\n",
      "2016_2_8 effunet_demo_left2016_2_8\n",
      "Looking for TFRecord files...\n",
      "Running predictions...\n",
      "49/49 [==============================] - 59s 1s/step\n"
     ],
     "name": "stdout"
    },
    {
     "output_type": "stream",
     "text": [
      "100%|██████████| 49/49 [00:11<00:00,  4.33it/s]\n"
     ],
     "name": "stderr"
    },
    {
     "output_type": "stream",
     "text": [
      "WARNING:tensorflow:From /usr/local/lib/python3.7/dist-packages/tensorflow/python/compat/v2_compat.py:96: disable_resource_variables (from tensorflow.python.ops.variable_scope) is deprecated and will be removed in a future version.\n",
      "Instructions for updating:\n",
      "non-resource variables are not supported in the long term\n",
      "Started upload task with ID: IRJPYNHWDOD2JOPEJAYQGWCO\n",
      "2016-07-01 2016-09-30  starting!!...\n",
      "2016_3_8 effunet_demo_left2016_3_8\n",
      "Looking for TFRecord files...\n",
      "Running predictions...\n",
      "49/49 [==============================] - 59s 1s/step\n"
     ],
     "name": "stdout"
    },
    {
     "output_type": "stream",
     "text": [
      "100%|██████████| 49/49 [00:11<00:00,  4.35it/s]\n"
     ],
     "name": "stderr"
    },
    {
     "output_type": "stream",
     "text": [
      "WARNING:tensorflow:From /usr/local/lib/python3.7/dist-packages/tensorflow/python/compat/v2_compat.py:96: disable_resource_variables (from tensorflow.python.ops.variable_scope) is deprecated and will be removed in a future version.\n",
      "Instructions for updating:\n",
      "non-resource variables are not supported in the long term\n",
      "Started upload task with ID: MIUQKYENKZWVIMANC7HMVZRG\n",
      "2016-10-01 2016-12-31  starting!!...\n",
      "2016_4_8 effunet_demo_left2016_4_8\n",
      "Looking for TFRecord files...\n",
      "Running predictions...\n",
      "49/49 [==============================] - 54s 1s/step\n"
     ],
     "name": "stdout"
    },
    {
     "output_type": "stream",
     "text": [
      "100%|██████████| 49/49 [00:11<00:00,  4.37it/s]\n"
     ],
     "name": "stderr"
    },
    {
     "output_type": "stream",
     "text": [
      "WARNING:tensorflow:From /usr/local/lib/python3.7/dist-packages/tensorflow/python/compat/v2_compat.py:96: disable_resource_variables (from tensorflow.python.ops.variable_scope) is deprecated and will be removed in a future version.\n",
      "Instructions for updating:\n",
      "non-resource variables are not supported in the long term\n",
      "Started upload task with ID: BWUI2UDVW7SZCJJGXMBK345V\n",
      "2017-01-01 2017-03-31  starting!!...\n",
      "2017_1_8 effunet_demo_left2017_1_8\n",
      "Looking for TFRecord files...\n",
      "Running predictions...\n",
      "49/49 [==============================] - 55s 1s/step\n"
     ],
     "name": "stdout"
    },
    {
     "output_type": "stream",
     "text": [
      "100%|██████████| 49/49 [00:11<00:00,  4.38it/s]\n"
     ],
     "name": "stderr"
    },
    {
     "output_type": "stream",
     "text": [
      "WARNING:tensorflow:From /usr/local/lib/python3.7/dist-packages/tensorflow/python/compat/v2_compat.py:96: disable_resource_variables (from tensorflow.python.ops.variable_scope) is deprecated and will be removed in a future version.\n",
      "Instructions for updating:\n",
      "non-resource variables are not supported in the long term\n",
      "Started upload task with ID: YN24LZS3KYBL3C2464W4EFQN\n",
      "2017-04-01 2017-06-30  starting!!...\n",
      "2017_2_8 effunet_demo_left2017_2_8\n",
      "Looking for TFRecord files...\n",
      "Running predictions...\n",
      "49/49 [==============================] - 68s 1s/step\n"
     ],
     "name": "stdout"
    },
    {
     "output_type": "stream",
     "text": [
      "100%|██████████| 49/49 [00:11<00:00,  4.36it/s]\n"
     ],
     "name": "stderr"
    },
    {
     "output_type": "stream",
     "text": [
      "WARNING:tensorflow:From /usr/local/lib/python3.7/dist-packages/tensorflow/python/compat/v2_compat.py:96: disable_resource_variables (from tensorflow.python.ops.variable_scope) is deprecated and will be removed in a future version.\n",
      "Instructions for updating:\n",
      "non-resource variables are not supported in the long term\n",
      "Started upload task with ID: KVJVTM7Q44WFYKZ2YKLJY4Z5\n",
      "2017-07-01 2017-09-30  starting!!...\n",
      "2017_3_8 effunet_demo_left2017_3_8\n",
      "Looking for TFRecord files...\n",
      "Running predictions...\n",
      "49/49 [==============================] - 65s 1s/step\n"
     ],
     "name": "stdout"
    },
    {
     "output_type": "stream",
     "text": [
      "100%|██████████| 49/49 [00:11<00:00,  4.30it/s]\n"
     ],
     "name": "stderr"
    },
    {
     "output_type": "stream",
     "text": [
      "WARNING:tensorflow:From /usr/local/lib/python3.7/dist-packages/tensorflow/python/compat/v2_compat.py:96: disable_resource_variables (from tensorflow.python.ops.variable_scope) is deprecated and will be removed in a future version.\n",
      "Instructions for updating:\n",
      "non-resource variables are not supported in the long term\n",
      "Started upload task with ID: WG7DUE4PTVXVJPT3WXINIXE7\n",
      "2017-10-01 2017-12-31  starting!!...\n",
      "2017_4_8 effunet_demo_left2017_4_8\n",
      "Looking for TFRecord files...\n",
      "Running predictions...\n",
      "49/49 [==============================] - 62s 1s/step\n"
     ],
     "name": "stdout"
    },
    {
     "output_type": "stream",
     "text": [
      "100%|██████████| 49/49 [00:11<00:00,  4.30it/s]\n"
     ],
     "name": "stderr"
    },
    {
     "output_type": "stream",
     "text": [
      "WARNING:tensorflow:From /usr/local/lib/python3.7/dist-packages/tensorflow/python/compat/v2_compat.py:96: disable_resource_variables (from tensorflow.python.ops.variable_scope) is deprecated and will be removed in a future version.\n",
      "Instructions for updating:\n",
      "non-resource variables are not supported in the long term\n",
      "Started upload task with ID: BKI3OF7J4WTGXVUKRLRDAU37\n",
      "2018-01-01 2018-03-31  starting!!...\n",
      "2018_1_8 effunet_demo_left2018_1_8\n",
      "Looking for TFRecord files...\n",
      "Running predictions...\n",
      "49/49 [==============================] - 51s 1s/step\n"
     ],
     "name": "stdout"
    },
    {
     "output_type": "stream",
     "text": [
      "100%|██████████| 49/49 [00:11<00:00,  4.36it/s]\n"
     ],
     "name": "stderr"
    },
    {
     "output_type": "stream",
     "text": [
      "WARNING:tensorflow:From /usr/local/lib/python3.7/dist-packages/tensorflow/python/compat/v2_compat.py:96: disable_resource_variables (from tensorflow.python.ops.variable_scope) is deprecated and will be removed in a future version.\n",
      "Instructions for updating:\n",
      "non-resource variables are not supported in the long term\n",
      "Started upload task with ID: 22ZOBNASWHCBWY7VVPBNW6YD\n",
      "2018-04-01 2018-06-30  starting!!...\n",
      "2018_2_8 effunet_demo_left2018_2_8\n",
      "Looking for TFRecord files...\n",
      "Running predictions...\n",
      "49/49 [==============================] - 63s 1s/step\n"
     ],
     "name": "stdout"
    },
    {
     "output_type": "stream",
     "text": [
      "100%|██████████| 49/49 [00:11<00:00,  4.41it/s]\n"
     ],
     "name": "stderr"
    },
    {
     "output_type": "stream",
     "text": [
      "WARNING:tensorflow:From /usr/local/lib/python3.7/dist-packages/tensorflow/python/compat/v2_compat.py:96: disable_resource_variables (from tensorflow.python.ops.variable_scope) is deprecated and will be removed in a future version.\n",
      "Instructions for updating:\n",
      "non-resource variables are not supported in the long term\n",
      "Started upload task with ID: H4NWQ2FGHKLOFARJXG4AKVZO\n",
      "2018-07-01 2018-09-30  starting!!...\n",
      "2018_3_8 effunet_demo_left2018_3_8\n",
      "Looking for TFRecord files...\n",
      "Running predictions...\n",
      "49/49 [==============================] - 60s 1s/step\n"
     ],
     "name": "stdout"
    },
    {
     "output_type": "stream",
     "text": [
      "100%|██████████| 49/49 [00:11<00:00,  4.38it/s]\n"
     ],
     "name": "stderr"
    },
    {
     "output_type": "stream",
     "text": [
      "WARNING:tensorflow:From /usr/local/lib/python3.7/dist-packages/tensorflow/python/compat/v2_compat.py:96: disable_resource_variables (from tensorflow.python.ops.variable_scope) is deprecated and will be removed in a future version.\n",
      "Instructions for updating:\n",
      "non-resource variables are not supported in the long term\n",
      "Started upload task with ID: BDCXLGV626ERFF7WF5IIHNYH\n",
      "2018-10-01 2018-12-31  starting!!...\n",
      "2018_4_8 effunet_demo_left2018_4_8\n",
      "Looking for TFRecord files...\n",
      "Running predictions...\n",
      "49/49 [==============================] - 52s 1s/step\n"
     ],
     "name": "stdout"
    },
    {
     "output_type": "stream",
     "text": [
      "100%|██████████| 49/49 [00:11<00:00,  4.24it/s]\n"
     ],
     "name": "stderr"
    },
    {
     "output_type": "stream",
     "text": [
      "WARNING:tensorflow:From /usr/local/lib/python3.7/dist-packages/tensorflow/python/compat/v2_compat.py:96: disable_resource_variables (from tensorflow.python.ops.variable_scope) is deprecated and will be removed in a future version.\n",
      "Instructions for updating:\n",
      "non-resource variables are not supported in the long term\n",
      "Started upload task with ID: APBJJLKZ4YWQ7OXGXHIPYRTT\n",
      "2019-01-01 2019-03-31  starting!!...\n",
      "2019_1_8 effunet_demo_left2019_1_8\n",
      "Looking for TFRecord files...\n",
      "Running predictions...\n",
      "49/49 [==============================] - 61s 1s/step\n"
     ],
     "name": "stdout"
    },
    {
     "output_type": "stream",
     "text": [
      "100%|██████████| 49/49 [00:11<00:00,  4.27it/s]\n"
     ],
     "name": "stderr"
    },
    {
     "output_type": "stream",
     "text": [
      "WARNING:tensorflow:From /usr/local/lib/python3.7/dist-packages/tensorflow/python/compat/v2_compat.py:96: disable_resource_variables (from tensorflow.python.ops.variable_scope) is deprecated and will be removed in a future version.\n",
      "Instructions for updating:\n",
      "non-resource variables are not supported in the long term\n",
      "Started upload task with ID: WAYV2K4K47A5X6D73YI7HVXV\n",
      "2019-04-01 2019-06-30  starting!!...\n",
      "2019_2_8 effunet_demo_left2019_2_8\n",
      "Looking for TFRecord files...\n",
      "Running predictions...\n",
      "49/49 [==============================] - 66s 1s/step\n"
     ],
     "name": "stdout"
    },
    {
     "output_type": "stream",
     "text": [
      "100%|██████████| 49/49 [00:11<00:00,  4.29it/s]\n"
     ],
     "name": "stderr"
    },
    {
     "output_type": "stream",
     "text": [
      "WARNING:tensorflow:From /usr/local/lib/python3.7/dist-packages/tensorflow/python/compat/v2_compat.py:96: disable_resource_variables (from tensorflow.python.ops.variable_scope) is deprecated and will be removed in a future version.\n",
      "Instructions for updating:\n",
      "non-resource variables are not supported in the long term\n",
      "Started upload task with ID: 5FVKEZOJXM3LFGLCZE4WZ6MQ\n",
      "2019-07-01 2019-09-30  starting!!...\n",
      "2019_3_8 effunet_demo_left2019_3_8\n",
      "Looking for TFRecord files...\n",
      "Running predictions...\n",
      "49/49 [==============================] - 59s 1s/step\n"
     ],
     "name": "stdout"
    },
    {
     "output_type": "stream",
     "text": [
      "100%|██████████| 49/49 [00:11<00:00,  4.29it/s]\n"
     ],
     "name": "stderr"
    },
    {
     "output_type": "stream",
     "text": [
      "WARNING:tensorflow:From /usr/local/lib/python3.7/dist-packages/tensorflow/python/compat/v2_compat.py:96: disable_resource_variables (from tensorflow.python.ops.variable_scope) is deprecated and will be removed in a future version.\n",
      "Instructions for updating:\n",
      "non-resource variables are not supported in the long term\n",
      "Started upload task with ID: WMDQAJHAITSAS6RLVLWGZAW5\n",
      "2019-10-01 2019-12-31  starting!!...\n",
      "2019_4_8 effunet_demo_left2019_4_8\n",
      "Looking for TFRecord files...\n",
      "Running predictions...\n",
      "49/49 [==============================] - 57s 1s/step\n"
     ],
     "name": "stdout"
    },
    {
     "output_type": "stream",
     "text": [
      "100%|██████████| 49/49 [00:11<00:00,  4.29it/s]\n"
     ],
     "name": "stderr"
    },
    {
     "output_type": "stream",
     "text": [
      "WARNING:tensorflow:From /usr/local/lib/python3.7/dist-packages/tensorflow/python/compat/v2_compat.py:96: disable_resource_variables (from tensorflow.python.ops.variable_scope) is deprecated and will be removed in a future version.\n",
      "Instructions for updating:\n",
      "non-resource variables are not supported in the long term\n",
      "Started upload task with ID: LGL5NDHDDESYQ4JPB5QG3WH3\n",
      "2015-01-01 2015-03-31  starting!!...\n",
      "2015_1_9 effunet_demo_left2015_1_9\n",
      "Looking for TFRecord files...\n",
      "Running predictions...\n",
      "49/49 [==============================] - 72s 1s/step\n"
     ],
     "name": "stdout"
    },
    {
     "output_type": "stream",
     "text": [
      "100%|██████████| 49/49 [00:11<00:00,  4.35it/s]\n"
     ],
     "name": "stderr"
    },
    {
     "output_type": "stream",
     "text": [
      "WARNING:tensorflow:From /usr/local/lib/python3.7/dist-packages/tensorflow/python/compat/v2_compat.py:96: disable_resource_variables (from tensorflow.python.ops.variable_scope) is deprecated and will be removed in a future version.\n",
      "Instructions for updating:\n",
      "non-resource variables are not supported in the long term\n",
      "Started upload task with ID: 5EB7FKTVIJHTJUBXMUTVMBZG\n",
      "2015-04-01 2015-06-30  starting!!...\n",
      "2015_2_9 effunet_demo_left2015_2_9\n",
      "Looking for TFRecord files...\n",
      "Running predictions...\n",
      "49/49 [==============================] - 66s 1s/step\n"
     ],
     "name": "stdout"
    },
    {
     "output_type": "stream",
     "text": [
      "100%|██████████| 49/49 [00:11<00:00,  4.31it/s]\n"
     ],
     "name": "stderr"
    },
    {
     "output_type": "stream",
     "text": [
      "WARNING:tensorflow:From /usr/local/lib/python3.7/dist-packages/tensorflow/python/compat/v2_compat.py:96: disable_resource_variables (from tensorflow.python.ops.variable_scope) is deprecated and will be removed in a future version.\n",
      "Instructions for updating:\n",
      "non-resource variables are not supported in the long term\n",
      "Started upload task with ID: FR5NHFR4LUSEKGMXLYJMANCI\n",
      "2015-07-01 2015-09-30  starting!!...\n",
      "2015_3_9 effunet_demo_left2015_3_9\n",
      "Looking for TFRecord files...\n",
      "Running predictions...\n",
      "49/49 [==============================] - 58s 1s/step\n"
     ],
     "name": "stdout"
    },
    {
     "output_type": "stream",
     "text": [
      "100%|██████████| 49/49 [00:11<00:00,  4.33it/s]\n"
     ],
     "name": "stderr"
    },
    {
     "output_type": "stream",
     "text": [
      "WARNING:tensorflow:From /usr/local/lib/python3.7/dist-packages/tensorflow/python/compat/v2_compat.py:96: disable_resource_variables (from tensorflow.python.ops.variable_scope) is deprecated and will be removed in a future version.\n",
      "Instructions for updating:\n",
      "non-resource variables are not supported in the long term\n",
      "Started upload task with ID: OHG6BRZV27ORY5WPOMWYXPEQ\n",
      "2015-10-01 2015-12-31  starting!!...\n",
      "2015_4_9 effunet_demo_left2015_4_9\n",
      "Looking for TFRecord files...\n",
      "Running predictions...\n",
      "49/49 [==============================] - 53s 1s/step\n"
     ],
     "name": "stdout"
    },
    {
     "output_type": "stream",
     "text": [
      "100%|██████████| 49/49 [00:11<00:00,  4.27it/s]\n"
     ],
     "name": "stderr"
    },
    {
     "output_type": "stream",
     "text": [
      "WARNING:tensorflow:From /usr/local/lib/python3.7/dist-packages/tensorflow/python/compat/v2_compat.py:96: disable_resource_variables (from tensorflow.python.ops.variable_scope) is deprecated and will be removed in a future version.\n",
      "Instructions for updating:\n",
      "non-resource variables are not supported in the long term\n",
      "Started upload task with ID: EYJVAFBL7TEDI7HT6SQSGRFJ\n",
      "2016-01-01 2016-03-31  starting!!...\n",
      "2016_1_9 effunet_demo_left2016_1_9\n",
      "Looking for TFRecord files...\n",
      "Running predictions...\n",
      "49/49 [==============================] - 71s 1s/step\n"
     ],
     "name": "stdout"
    },
    {
     "output_type": "stream",
     "text": [
      "100%|██████████| 49/49 [00:11<00:00,  4.32it/s]\n"
     ],
     "name": "stderr"
    },
    {
     "output_type": "stream",
     "text": [
      "WARNING:tensorflow:From /usr/local/lib/python3.7/dist-packages/tensorflow/python/compat/v2_compat.py:96: disable_resource_variables (from tensorflow.python.ops.variable_scope) is deprecated and will be removed in a future version.\n",
      "Instructions for updating:\n",
      "non-resource variables are not supported in the long term\n",
      "Started upload task with ID: 7B6CQNUULGZPWIWLRO53XVOH\n",
      "2016-04-01 2016-06-30  starting!!...\n",
      "2016_2_9 effunet_demo_left2016_2_9\n",
      "Looking for TFRecord files...\n",
      "Running predictions...\n",
      "49/49 [==============================] - 55s 1s/step\n"
     ],
     "name": "stdout"
    },
    {
     "output_type": "stream",
     "text": [
      "100%|██████████| 49/49 [00:11<00:00,  4.41it/s]\n"
     ],
     "name": "stderr"
    },
    {
     "output_type": "stream",
     "text": [
      "WARNING:tensorflow:From /usr/local/lib/python3.7/dist-packages/tensorflow/python/compat/v2_compat.py:96: disable_resource_variables (from tensorflow.python.ops.variable_scope) is deprecated and will be removed in a future version.\n",
      "Instructions for updating:\n",
      "non-resource variables are not supported in the long term\n",
      "Started upload task with ID: KTVCMVX3LNCXTWVDXUP3CK4U\n",
      "2016-07-01 2016-09-30  starting!!...\n",
      "2016_3_9 effunet_demo_left2016_3_9\n",
      "Looking for TFRecord files...\n",
      "Running predictions...\n",
      "49/49 [==============================] - 52s 1s/step\n"
     ],
     "name": "stdout"
    },
    {
     "output_type": "stream",
     "text": [
      "100%|██████████| 49/49 [00:11<00:00,  4.27it/s]\n"
     ],
     "name": "stderr"
    },
    {
     "output_type": "stream",
     "text": [
      "WARNING:tensorflow:From /usr/local/lib/python3.7/dist-packages/tensorflow/python/compat/v2_compat.py:96: disable_resource_variables (from tensorflow.python.ops.variable_scope) is deprecated and will be removed in a future version.\n",
      "Instructions for updating:\n",
      "non-resource variables are not supported in the long term\n",
      "Started upload task with ID: ZBIUMNIGXYKMJFHGKGNPWXBW\n",
      "2016-10-01 2016-12-31  starting!!...\n",
      "2016_4_9 effunet_demo_left2016_4_9\n",
      "Looking for TFRecord files...\n",
      "Running predictions...\n",
      "49/49 [==============================] - 71s 1s/step\n"
     ],
     "name": "stdout"
    },
    {
     "output_type": "stream",
     "text": [
      "100%|██████████| 49/49 [00:11<00:00,  4.22it/s]\n"
     ],
     "name": "stderr"
    },
    {
     "output_type": "stream",
     "text": [
      "WARNING:tensorflow:From /usr/local/lib/python3.7/dist-packages/tensorflow/python/compat/v2_compat.py:96: disable_resource_variables (from tensorflow.python.ops.variable_scope) is deprecated and will be removed in a future version.\n",
      "Instructions for updating:\n",
      "non-resource variables are not supported in the long term\n",
      "Started upload task with ID: WL3AFZMQVLHIH7PPOKZT3GLR\n",
      "2017-01-01 2017-03-31  starting!!...\n",
      "2017_1_9 effunet_demo_left2017_1_9\n",
      "Looking for TFRecord files...\n",
      "Running predictions...\n",
      "49/49 [==============================] - 60s 1s/step\n"
     ],
     "name": "stdout"
    },
    {
     "output_type": "stream",
     "text": [
      "100%|██████████| 49/49 [00:11<00:00,  4.36it/s]\n"
     ],
     "name": "stderr"
    },
    {
     "output_type": "stream",
     "text": [
      "WARNING:tensorflow:From /usr/local/lib/python3.7/dist-packages/tensorflow/python/compat/v2_compat.py:96: disable_resource_variables (from tensorflow.python.ops.variable_scope) is deprecated and will be removed in a future version.\n",
      "Instructions for updating:\n",
      "non-resource variables are not supported in the long term\n",
      "Started upload task with ID: SRPW4S5VUFJJOF7AN3OCOZF6\n",
      "2017-04-01 2017-06-30  starting!!...\n",
      "2017_2_9 effunet_demo_left2017_2_9\n",
      "Looking for TFRecord files...\n",
      "Running predictions...\n",
      "49/49 [==============================] - 76s 1s/step\n"
     ],
     "name": "stdout"
    },
    {
     "output_type": "stream",
     "text": [
      "100%|██████████| 49/49 [00:11<00:00,  4.33it/s]\n"
     ],
     "name": "stderr"
    },
    {
     "output_type": "stream",
     "text": [
      "WARNING:tensorflow:From /usr/local/lib/python3.7/dist-packages/tensorflow/python/compat/v2_compat.py:96: disable_resource_variables (from tensorflow.python.ops.variable_scope) is deprecated and will be removed in a future version.\n",
      "Instructions for updating:\n",
      "non-resource variables are not supported in the long term\n",
      "Started upload task with ID: GZIEEABP2LLZTFPSBZKV2SOD\n",
      "2017-07-01 2017-09-30  starting!!...\n",
      "2017_3_9 effunet_demo_left2017_3_9\n",
      "Looking for TFRecord files...\n",
      "Running predictions...\n",
      "49/49 [==============================] - 63s 1s/step\n"
     ],
     "name": "stdout"
    },
    {
     "output_type": "stream",
     "text": [
      "100%|██████████| 49/49 [00:11<00:00,  4.36it/s]\n"
     ],
     "name": "stderr"
    },
    {
     "output_type": "stream",
     "text": [
      "WARNING:tensorflow:From /usr/local/lib/python3.7/dist-packages/tensorflow/python/compat/v2_compat.py:96: disable_resource_variables (from tensorflow.python.ops.variable_scope) is deprecated and will be removed in a future version.\n",
      "Instructions for updating:\n",
      "non-resource variables are not supported in the long term\n",
      "Started upload task with ID: QVNZRADCFT5TYPLLPMJHIDTD\n",
      "2017-10-01 2017-12-31  starting!!...\n",
      "2017_4_9 effunet_demo_left2017_4_9\n",
      "Looking for TFRecord files...\n",
      "Running predictions...\n",
      "49/49 [==============================] - 59s 1s/step\n"
     ],
     "name": "stdout"
    },
    {
     "output_type": "stream",
     "text": [
      "100%|██████████| 49/49 [00:11<00:00,  4.29it/s]\n"
     ],
     "name": "stderr"
    },
    {
     "output_type": "stream",
     "text": [
      "WARNING:tensorflow:From /usr/local/lib/python3.7/dist-packages/tensorflow/python/compat/v2_compat.py:96: disable_resource_variables (from tensorflow.python.ops.variable_scope) is deprecated and will be removed in a future version.\n",
      "Instructions for updating:\n",
      "non-resource variables are not supported in the long term\n",
      "Started upload task with ID: 6S5LEGFLKUGF5VL46LXS3LYC\n",
      "2018-01-01 2018-03-31  starting!!...\n",
      "2018_1_9 effunet_demo_left2018_1_9\n",
      "Looking for TFRecord files...\n",
      "Running predictions...\n",
      "49/49 [==============================] - 51s 1s/step\n"
     ],
     "name": "stdout"
    },
    {
     "output_type": "stream",
     "text": [
      "100%|██████████| 49/49 [00:11<00:00,  4.34it/s]\n"
     ],
     "name": "stderr"
    },
    {
     "output_type": "stream",
     "text": [
      "WARNING:tensorflow:From /usr/local/lib/python3.7/dist-packages/tensorflow/python/compat/v2_compat.py:96: disable_resource_variables (from tensorflow.python.ops.variable_scope) is deprecated and will be removed in a future version.\n",
      "Instructions for updating:\n",
      "non-resource variables are not supported in the long term\n",
      "Started upload task with ID: 6R3KFPUNEOSSZGIUSYSMYVXZ\n",
      "2018-04-01 2018-06-30  starting!!...\n",
      "2018_2_9 effunet_demo_left2018_2_9\n",
      "Looking for TFRecord files...\n",
      "Running predictions...\n",
      "49/49 [==============================] - 57s 1s/step\n"
     ],
     "name": "stdout"
    },
    {
     "output_type": "stream",
     "text": [
      "100%|██████████| 49/49 [00:11<00:00,  4.37it/s]\n"
     ],
     "name": "stderr"
    },
    {
     "output_type": "stream",
     "text": [
      "WARNING:tensorflow:From /usr/local/lib/python3.7/dist-packages/tensorflow/python/compat/v2_compat.py:96: disable_resource_variables (from tensorflow.python.ops.variable_scope) is deprecated and will be removed in a future version.\n",
      "Instructions for updating:\n",
      "non-resource variables are not supported in the long term\n",
      "Started upload task with ID: 4Q52OCZINBGWGAUMMR6QT5QG\n",
      "2018-07-01 2018-09-30  starting!!...\n",
      "2018_3_9 effunet_demo_left2018_3_9\n",
      "Looking for TFRecord files...\n",
      "Running predictions...\n",
      "49/49 [==============================] - 61s 1s/step\n"
     ],
     "name": "stdout"
    },
    {
     "output_type": "stream",
     "text": [
      "100%|██████████| 49/49 [00:11<00:00,  4.35it/s]\n"
     ],
     "name": "stderr"
    },
    {
     "output_type": "stream",
     "text": [
      "WARNING:tensorflow:From /usr/local/lib/python3.7/dist-packages/tensorflow/python/compat/v2_compat.py:96: disable_resource_variables (from tensorflow.python.ops.variable_scope) is deprecated and will be removed in a future version.\n",
      "Instructions for updating:\n",
      "non-resource variables are not supported in the long term\n",
      "Started upload task with ID: 26KRPOA4UATNUR7OBCJHPAUJ\n",
      "2018-10-01 2018-12-31  starting!!...\n",
      "2018_4_9 effunet_demo_left2018_4_9\n",
      "Looking for TFRecord files...\n",
      "Running predictions...\n",
      "49/49 [==============================] - 66s 1s/step\n"
     ],
     "name": "stdout"
    },
    {
     "output_type": "stream",
     "text": [
      "100%|██████████| 49/49 [00:11<00:00,  4.26it/s]\n"
     ],
     "name": "stderr"
    },
    {
     "output_type": "stream",
     "text": [
      "WARNING:tensorflow:From /usr/local/lib/python3.7/dist-packages/tensorflow/python/compat/v2_compat.py:96: disable_resource_variables (from tensorflow.python.ops.variable_scope) is deprecated and will be removed in a future version.\n",
      "Instructions for updating:\n",
      "non-resource variables are not supported in the long term\n",
      "Started upload task with ID: NOPCBUS5NOQSDIFWV7UJFUPW\n",
      "2019-01-01 2019-03-31  starting!!...\n",
      "2019_1_9 effunet_demo_left2019_1_9\n",
      "Looking for TFRecord files...\n",
      "Running predictions...\n",
      "49/49 [==============================] - 58s 1s/step\n"
     ],
     "name": "stdout"
    },
    {
     "output_type": "stream",
     "text": [
      "100%|██████████| 49/49 [00:11<00:00,  4.32it/s]\n"
     ],
     "name": "stderr"
    },
    {
     "output_type": "stream",
     "text": [
      "WARNING:tensorflow:From /usr/local/lib/python3.7/dist-packages/tensorflow/python/compat/v2_compat.py:96: disable_resource_variables (from tensorflow.python.ops.variable_scope) is deprecated and will be removed in a future version.\n",
      "Instructions for updating:\n",
      "non-resource variables are not supported in the long term\n",
      "Started upload task with ID: WTGQ24A5GGA2376EMRO3V4ZC\n",
      "2019-04-01 2019-06-30  starting!!...\n",
      "2019_2_9 effunet_demo_left2019_2_9\n",
      "Looking for TFRecord files...\n",
      "Running predictions...\n",
      "49/49 [==============================] - 64s 1s/step\n"
     ],
     "name": "stdout"
    },
    {
     "output_type": "stream",
     "text": [
      "100%|██████████| 49/49 [00:11<00:00,  4.36it/s]\n"
     ],
     "name": "stderr"
    },
    {
     "output_type": "stream",
     "text": [
      "WARNING:tensorflow:From /usr/local/lib/python3.7/dist-packages/tensorflow/python/compat/v2_compat.py:96: disable_resource_variables (from tensorflow.python.ops.variable_scope) is deprecated and will be removed in a future version.\n",
      "Instructions for updating:\n",
      "non-resource variables are not supported in the long term\n",
      "Started upload task with ID: J5OJX62PQM354WRTX63QDDOW\n",
      "2019-07-01 2019-09-30  starting!!...\n",
      "2019_3_9 effunet_demo_left2019_3_9\n",
      "Looking for TFRecord files...\n",
      "Running predictions...\n",
      "49/49 [==============================] - 57s 1s/step\n"
     ],
     "name": "stdout"
    },
    {
     "output_type": "stream",
     "text": [
      "100%|██████████| 49/49 [00:11<00:00,  4.31it/s]\n"
     ],
     "name": "stderr"
    },
    {
     "output_type": "stream",
     "text": [
      "WARNING:tensorflow:From /usr/local/lib/python3.7/dist-packages/tensorflow/python/compat/v2_compat.py:96: disable_resource_variables (from tensorflow.python.ops.variable_scope) is deprecated and will be removed in a future version.\n",
      "Instructions for updating:\n",
      "non-resource variables are not supported in the long term\n",
      "Started upload task with ID: ZQTFMMTAODKJ4YBL7L4PUQWH\n",
      "2019-10-01 2019-12-31  starting!!...\n",
      "2019_4_9 effunet_demo_left2019_4_9\n",
      "Looking for TFRecord files...\n",
      "Running predictions...\n",
      "49/49 [==============================] - 53s 1s/step\n"
     ],
     "name": "stdout"
    },
    {
     "output_type": "stream",
     "text": [
      "100%|██████████| 49/49 [00:11<00:00,  4.33it/s]\n"
     ],
     "name": "stderr"
    },
    {
     "output_type": "stream",
     "text": [
      "WARNING:tensorflow:From /usr/local/lib/python3.7/dist-packages/tensorflow/python/compat/v2_compat.py:96: disable_resource_variables (from tensorflow.python.ops.variable_scope) is deprecated and will be removed in a future version.\n",
      "Instructions for updating:\n",
      "non-resource variables are not supported in the long term\n",
      "Started upload task with ID: KTTXVODIO2H6FIOR2XBKYKBT\n",
      "2015-01-01 2015-03-31  starting!!...\n",
      "2015_1_10 effunet_demo_left2015_1_10\n",
      "Looking for TFRecord files...\n",
      "Running predictions...\n",
      "49/49 [==============================] - 61s 1s/step\n"
     ],
     "name": "stdout"
    },
    {
     "output_type": "stream",
     "text": [
      "100%|██████████| 49/49 [00:11<00:00,  4.29it/s]\n"
     ],
     "name": "stderr"
    },
    {
     "output_type": "stream",
     "text": [
      "WARNING:tensorflow:From /usr/local/lib/python3.7/dist-packages/tensorflow/python/compat/v2_compat.py:96: disable_resource_variables (from tensorflow.python.ops.variable_scope) is deprecated and will be removed in a future version.\n",
      "Instructions for updating:\n",
      "non-resource variables are not supported in the long term\n",
      "Started upload task with ID: CLR7L3WHXKSSX7UPC3WTTJ5D\n",
      "2015-04-01 2015-06-30  starting!!...\n",
      "2015_2_10 effunet_demo_left2015_2_10\n",
      "Looking for TFRecord files...\n",
      "Running predictions...\n",
      "49/49 [==============================] - 62s 1s/step\n"
     ],
     "name": "stdout"
    },
    {
     "output_type": "stream",
     "text": [
      "100%|██████████| 49/49 [00:11<00:00,  4.31it/s]\n"
     ],
     "name": "stderr"
    },
    {
     "output_type": "stream",
     "text": [
      "WARNING:tensorflow:From /usr/local/lib/python3.7/dist-packages/tensorflow/python/compat/v2_compat.py:96: disable_resource_variables (from tensorflow.python.ops.variable_scope) is deprecated and will be removed in a future version.\n",
      "Instructions for updating:\n",
      "non-resource variables are not supported in the long term\n",
      "Started upload task with ID: ZTIK5CWEQEK2JNMBQR7MJWOM\n",
      "2015-07-01 2015-09-30  starting!!...\n",
      "2015_3_10 effunet_demo_left2015_3_10\n",
      "Looking for TFRecord files...\n",
      "Running predictions...\n",
      "49/49 [==============================] - 55s 1s/step\n"
     ],
     "name": "stdout"
    },
    {
     "output_type": "stream",
     "text": [
      "100%|██████████| 49/49 [00:11<00:00,  4.38it/s]\n"
     ],
     "name": "stderr"
    },
    {
     "output_type": "stream",
     "text": [
      "WARNING:tensorflow:From /usr/local/lib/python3.7/dist-packages/tensorflow/python/compat/v2_compat.py:96: disable_resource_variables (from tensorflow.python.ops.variable_scope) is deprecated and will be removed in a future version.\n",
      "Instructions for updating:\n",
      "non-resource variables are not supported in the long term\n",
      "Started upload task with ID: R6HCVATHQZQWGPSEOWP4W7IH\n",
      "2015-10-01 2015-12-31  starting!!...\n",
      "2015_4_10 effunet_demo_left2015_4_10\n",
      "Looking for TFRecord files...\n",
      "Running predictions...\n",
      "49/49 [==============================] - 51s 1s/step\n"
     ],
     "name": "stdout"
    },
    {
     "output_type": "stream",
     "text": [
      "100%|██████████| 49/49 [00:11<00:00,  4.32it/s]\n"
     ],
     "name": "stderr"
    },
    {
     "output_type": "stream",
     "text": [
      "WARNING:tensorflow:From /usr/local/lib/python3.7/dist-packages/tensorflow/python/compat/v2_compat.py:96: disable_resource_variables (from tensorflow.python.ops.variable_scope) is deprecated and will be removed in a future version.\n",
      "Instructions for updating:\n",
      "non-resource variables are not supported in the long term\n",
      "Started upload task with ID: ZEHQH74MG7R3BI3UUXZUGPUK\n",
      "2016-01-01 2016-03-31  starting!!...\n",
      "2016_1_10 effunet_demo_left2016_1_10\n",
      "Looking for TFRecord files...\n",
      "Running predictions...\n",
      "49/49 [==============================] - 64s 1s/step\n"
     ],
     "name": "stdout"
    },
    {
     "output_type": "stream",
     "text": [
      "100%|██████████| 49/49 [00:11<00:00,  4.36it/s]\n"
     ],
     "name": "stderr"
    },
    {
     "output_type": "stream",
     "text": [
      "WARNING:tensorflow:From /usr/local/lib/python3.7/dist-packages/tensorflow/python/compat/v2_compat.py:96: disable_resource_variables (from tensorflow.python.ops.variable_scope) is deprecated and will be removed in a future version.\n",
      "Instructions for updating:\n",
      "non-resource variables are not supported in the long term\n",
      "Started upload task with ID: HCSQ2C32FIYWSOGNWS76M5JC\n",
      "2016-04-01 2016-06-30  starting!!...\n",
      "2016_2_10 effunet_demo_left2016_2_10\n",
      "Looking for TFRecord files...\n",
      "Running predictions...\n",
      "49/49 [==============================] - 65s 1s/step\n"
     ],
     "name": "stdout"
    },
    {
     "output_type": "stream",
     "text": [
      "100%|██████████| 49/49 [00:11<00:00,  4.33it/s]\n"
     ],
     "name": "stderr"
    },
    {
     "output_type": "stream",
     "text": [
      "WARNING:tensorflow:From /usr/local/lib/python3.7/dist-packages/tensorflow/python/compat/v2_compat.py:96: disable_resource_variables (from tensorflow.python.ops.variable_scope) is deprecated and will be removed in a future version.\n",
      "Instructions for updating:\n",
      "non-resource variables are not supported in the long term\n",
      "Started upload task with ID: UQ27P7Y7I3UYS4NEGC2E25TP\n",
      "2016-07-01 2016-09-30  starting!!...\n",
      "2016_3_10 effunet_demo_left2016_3_10\n",
      "Looking for TFRecord files...\n",
      "Running predictions...\n",
      "49/49 [==============================] - 59s 1s/step\n"
     ],
     "name": "stdout"
    },
    {
     "output_type": "stream",
     "text": [
      "100%|██████████| 49/49 [00:11<00:00,  4.28it/s]\n"
     ],
     "name": "stderr"
    },
    {
     "output_type": "stream",
     "text": [
      "WARNING:tensorflow:From /usr/local/lib/python3.7/dist-packages/tensorflow/python/compat/v2_compat.py:96: disable_resource_variables (from tensorflow.python.ops.variable_scope) is deprecated and will be removed in a future version.\n",
      "Instructions for updating:\n",
      "non-resource variables are not supported in the long term\n",
      "Started upload task with ID: OD7B4OKB2YG7HOUTAH2HGC52\n",
      "2016-10-01 2016-12-31  starting!!...\n",
      "2016_4_10 effunet_demo_left2016_4_10\n",
      "Looking for TFRecord files...\n",
      "Running predictions...\n",
      "49/49 [==============================] - 58s 1s/step\n"
     ],
     "name": "stdout"
    },
    {
     "output_type": "stream",
     "text": [
      "100%|██████████| 49/49 [00:11<00:00,  4.33it/s]\n"
     ],
     "name": "stderr"
    },
    {
     "output_type": "stream",
     "text": [
      "WARNING:tensorflow:From /usr/local/lib/python3.7/dist-packages/tensorflow/python/compat/v2_compat.py:96: disable_resource_variables (from tensorflow.python.ops.variable_scope) is deprecated and will be removed in a future version.\n",
      "Instructions for updating:\n",
      "non-resource variables are not supported in the long term\n",
      "Started upload task with ID: P6KPSWRRKIGENEZ5EWVJT7NU\n",
      "2017-01-01 2017-03-31  starting!!...\n",
      "2017_1_10 effunet_demo_left2017_1_10\n",
      "Looking for TFRecord files...\n",
      "Running predictions...\n",
      "49/49 [==============================] - 57s 1s/step\n"
     ],
     "name": "stdout"
    },
    {
     "output_type": "stream",
     "text": [
      "100%|██████████| 49/49 [00:11<00:00,  4.32it/s]\n"
     ],
     "name": "stderr"
    },
    {
     "output_type": "stream",
     "text": [
      "WARNING:tensorflow:From /usr/local/lib/python3.7/dist-packages/tensorflow/python/compat/v2_compat.py:96: disable_resource_variables (from tensorflow.python.ops.variable_scope) is deprecated and will be removed in a future version.\n",
      "Instructions for updating:\n",
      "non-resource variables are not supported in the long term\n",
      "Started upload task with ID: 5FEROSO2ZEYLUYHEX7NV23VW\n",
      "2017-04-01 2017-06-30  starting!!...\n",
      "2017_2_10 effunet_demo_left2017_2_10\n",
      "Looking for TFRecord files...\n",
      "Running predictions...\n",
      "49/49 [==============================] - 58s 1s/step\n"
     ],
     "name": "stdout"
    },
    {
     "output_type": "stream",
     "text": [
      "100%|██████████| 49/49 [00:11<00:00,  4.31it/s]\n"
     ],
     "name": "stderr"
    },
    {
     "output_type": "stream",
     "text": [
      "WARNING:tensorflow:From /usr/local/lib/python3.7/dist-packages/tensorflow/python/compat/v2_compat.py:96: disable_resource_variables (from tensorflow.python.ops.variable_scope) is deprecated and will be removed in a future version.\n",
      "Instructions for updating:\n",
      "non-resource variables are not supported in the long term\n",
      "Started upload task with ID: WTZYNRCZGHTQRAXJUYBSZDCV\n",
      "2017-07-01 2017-09-30  starting!!...\n",
      "2017_3_10 effunet_demo_left2017_3_10\n",
      "Looking for TFRecord files...\n",
      "Running predictions...\n",
      "49/49 [==============================] - 57s 1s/step\n"
     ],
     "name": "stdout"
    },
    {
     "output_type": "stream",
     "text": [
      "100%|██████████| 49/49 [00:11<00:00,  4.32it/s]\n"
     ],
     "name": "stderr"
    },
    {
     "output_type": "stream",
     "text": [
      "WARNING:tensorflow:From /usr/local/lib/python3.7/dist-packages/tensorflow/python/compat/v2_compat.py:96: disable_resource_variables (from tensorflow.python.ops.variable_scope) is deprecated and will be removed in a future version.\n",
      "Instructions for updating:\n",
      "non-resource variables are not supported in the long term\n",
      "Started upload task with ID: FQSZNDMD5JDFEPTPMXYB5VGI\n",
      "2017-10-01 2017-12-31  starting!!...\n",
      "2017_4_10 effunet_demo_left2017_4_10\n",
      "Looking for TFRecord files...\n",
      "Running predictions...\n",
      "49/49 [==============================] - 55s 1s/step\n"
     ],
     "name": "stdout"
    },
    {
     "output_type": "stream",
     "text": [
      "100%|██████████| 49/49 [00:11<00:00,  4.31it/s]\n"
     ],
     "name": "stderr"
    },
    {
     "output_type": "stream",
     "text": [
      "WARNING:tensorflow:From /usr/local/lib/python3.7/dist-packages/tensorflow/python/compat/v2_compat.py:96: disable_resource_variables (from tensorflow.python.ops.variable_scope) is deprecated and will be removed in a future version.\n",
      "Instructions for updating:\n",
      "non-resource variables are not supported in the long term\n",
      "Started upload task with ID: 55IGSDCFSTH2R7DQK3YJCZJQ\n",
      "2018-01-01 2018-03-31  starting!!...\n",
      "2018_1_10 effunet_demo_left2018_1_10\n",
      "Looking for TFRecord files...\n",
      "Running predictions...\n",
      "49/49 [==============================] - 58s 1s/step\n"
     ],
     "name": "stdout"
    },
    {
     "output_type": "stream",
     "text": [
      "100%|██████████| 49/49 [00:11<00:00,  4.31it/s]\n"
     ],
     "name": "stderr"
    },
    {
     "output_type": "stream",
     "text": [
      "WARNING:tensorflow:From /usr/local/lib/python3.7/dist-packages/tensorflow/python/compat/v2_compat.py:96: disable_resource_variables (from tensorflow.python.ops.variable_scope) is deprecated and will be removed in a future version.\n",
      "Instructions for updating:\n",
      "non-resource variables are not supported in the long term\n",
      "Started upload task with ID: MSP66EBDWI2W52I73HYSCSRT\n",
      "2018-04-01 2018-06-30  starting!!...\n",
      "2018_2_10 effunet_demo_left2018_2_10\n",
      "Looking for TFRecord files...\n",
      "Running predictions...\n",
      "49/49 [==============================] - 55s 1s/step\n"
     ],
     "name": "stdout"
    },
    {
     "output_type": "stream",
     "text": [
      "100%|██████████| 49/49 [00:11<00:00,  4.28it/s]\n"
     ],
     "name": "stderr"
    },
    {
     "output_type": "stream",
     "text": [
      "WARNING:tensorflow:From /usr/local/lib/python3.7/dist-packages/tensorflow/python/compat/v2_compat.py:96: disable_resource_variables (from tensorflow.python.ops.variable_scope) is deprecated and will be removed in a future version.\n",
      "Instructions for updating:\n",
      "non-resource variables are not supported in the long term\n",
      "Started upload task with ID: 4YTWMKIRESK4Z6F4VAXOGDQV\n",
      "2018-07-01 2018-09-30  starting!!...\n",
      "2018_3_10 effunet_demo_left2018_3_10\n",
      "Looking for TFRecord files...\n",
      "Running predictions...\n",
      "49/49 [==============================] - 59s 1s/step\n"
     ],
     "name": "stdout"
    },
    {
     "output_type": "stream",
     "text": [
      "100%|██████████| 49/49 [00:11<00:00,  4.26it/s]\n"
     ],
     "name": "stderr"
    },
    {
     "output_type": "stream",
     "text": [
      "WARNING:tensorflow:From /usr/local/lib/python3.7/dist-packages/tensorflow/python/compat/v2_compat.py:96: disable_resource_variables (from tensorflow.python.ops.variable_scope) is deprecated and will be removed in a future version.\n",
      "Instructions for updating:\n",
      "non-resource variables are not supported in the long term\n",
      "Started upload task with ID: YNIQ6P2TKUPBF4RYNGVOHZNU\n",
      "2018-10-01 2018-12-31  starting!!...\n",
      "2018_4_10 effunet_demo_left2018_4_10\n",
      "Looking for TFRecord files...\n",
      "Running predictions...\n",
      "49/49 [==============================] - 63s 1s/step\n"
     ],
     "name": "stdout"
    },
    {
     "output_type": "stream",
     "text": [
      "100%|██████████| 49/49 [00:11<00:00,  4.26it/s]\n"
     ],
     "name": "stderr"
    },
    {
     "output_type": "stream",
     "text": [
      "WARNING:tensorflow:From /usr/local/lib/python3.7/dist-packages/tensorflow/python/compat/v2_compat.py:96: disable_resource_variables (from tensorflow.python.ops.variable_scope) is deprecated and will be removed in a future version.\n",
      "Instructions for updating:\n",
      "non-resource variables are not supported in the long term\n",
      "Started upload task with ID: KMF4RRP5S63HKJVG367BOALZ\n",
      "2019-01-01 2019-03-31  starting!!...\n",
      "2019_1_10 effunet_demo_left2019_1_10\n",
      "Looking for TFRecord files...\n",
      "Running predictions...\n",
      "49/49 [==============================] - 67s 1s/step\n"
     ],
     "name": "stdout"
    },
    {
     "output_type": "stream",
     "text": [
      "100%|██████████| 49/49 [00:11<00:00,  4.27it/s]\n"
     ],
     "name": "stderr"
    },
    {
     "output_type": "stream",
     "text": [
      "WARNING:tensorflow:From /usr/local/lib/python3.7/dist-packages/tensorflow/python/compat/v2_compat.py:96: disable_resource_variables (from tensorflow.python.ops.variable_scope) is deprecated and will be removed in a future version.\n",
      "Instructions for updating:\n",
      "non-resource variables are not supported in the long term\n",
      "Started upload task with ID: W4BCTPAWNISB3ZOINVIK4DEX\n",
      "2019-04-01 2019-06-30  starting!!...\n",
      "2019_2_10 effunet_demo_left2019_2_10\n",
      "Looking for TFRecord files...\n",
      "Running predictions...\n",
      "49/49 [==============================] - 64s 1s/step\n"
     ],
     "name": "stdout"
    },
    {
     "output_type": "stream",
     "text": [
      "100%|██████████| 49/49 [00:11<00:00,  4.33it/s]\n"
     ],
     "name": "stderr"
    },
    {
     "output_type": "stream",
     "text": [
      "WARNING:tensorflow:From /usr/local/lib/python3.7/dist-packages/tensorflow/python/compat/v2_compat.py:96: disable_resource_variables (from tensorflow.python.ops.variable_scope) is deprecated and will be removed in a future version.\n",
      "Instructions for updating:\n",
      "non-resource variables are not supported in the long term\n",
      "Started upload task with ID: O6G2EVSM34GMB2DPVZJKDYN7\n",
      "2019-07-01 2019-09-30  starting!!...\n",
      "2019_3_10 effunet_demo_left2019_3_10\n",
      "Looking for TFRecord files...\n",
      "Running predictions...\n",
      "49/49 [==============================] - 60s 1s/step\n"
     ],
     "name": "stdout"
    },
    {
     "output_type": "stream",
     "text": [
      "100%|██████████| 49/49 [00:11<00:00,  4.27it/s]\n"
     ],
     "name": "stderr"
    },
    {
     "output_type": "stream",
     "text": [
      "WARNING:tensorflow:From /usr/local/lib/python3.7/dist-packages/tensorflow/python/compat/v2_compat.py:96: disable_resource_variables (from tensorflow.python.ops.variable_scope) is deprecated and will be removed in a future version.\n",
      "Instructions for updating:\n",
      "non-resource variables are not supported in the long term\n",
      "Started upload task with ID: N64MV3GJHGCXEHKYWI3GWFZX\n",
      "2019-10-01 2019-12-31  starting!!...\n",
      "2019_4_10 effunet_demo_left2019_4_10\n",
      "Looking for TFRecord files...\n",
      "Running predictions...\n",
      "49/49 [==============================] - 61s 1s/step\n"
     ],
     "name": "stdout"
    },
    {
     "output_type": "stream",
     "text": [
      "100%|██████████| 49/49 [00:11<00:00,  4.27it/s]\n"
     ],
     "name": "stderr"
    },
    {
     "output_type": "stream",
     "text": [
      "WARNING:tensorflow:From /usr/local/lib/python3.7/dist-packages/tensorflow/python/compat/v2_compat.py:96: disable_resource_variables (from tensorflow.python.ops.variable_scope) is deprecated and will be removed in a future version.\n",
      "Instructions for updating:\n",
      "non-resource variables are not supported in the long term\n",
      "Started upload task with ID: QREZYEPSTYM2EVIOZAFDEQIU\n",
      "2015-01-01 2015-03-31  starting!!...\n",
      "2015_1_11 effunet_demo_left2015_1_11\n",
      "Looking for TFRecord files...\n",
      "Running predictions...\n",
      "49/49 [==============================] - 49s 978ms/step\n"
     ],
     "name": "stdout"
    },
    {
     "output_type": "stream",
     "text": [
      "100%|██████████| 49/49 [00:11<00:00,  4.35it/s]\n"
     ],
     "name": "stderr"
    },
    {
     "output_type": "stream",
     "text": [
      "WARNING:tensorflow:From /usr/local/lib/python3.7/dist-packages/tensorflow/python/compat/v2_compat.py:96: disable_resource_variables (from tensorflow.python.ops.variable_scope) is deprecated and will be removed in a future version.\n",
      "Instructions for updating:\n",
      "non-resource variables are not supported in the long term\n",
      "Started upload task with ID: JNQ5L2GGAL62FMJBIAOPTSNX\n",
      "2015-04-01 2015-06-30  starting!!...\n",
      "2015_2_11 effunet_demo_left2015_2_11\n",
      "Looking for TFRecord files...\n",
      "Running predictions...\n",
      "49/49 [==============================] - 63s 1s/step\n"
     ],
     "name": "stdout"
    },
    {
     "output_type": "stream",
     "text": [
      "100%|██████████| 49/49 [00:11<00:00,  4.34it/s]\n"
     ],
     "name": "stderr"
    },
    {
     "output_type": "stream",
     "text": [
      "WARNING:tensorflow:From /usr/local/lib/python3.7/dist-packages/tensorflow/python/compat/v2_compat.py:96: disable_resource_variables (from tensorflow.python.ops.variable_scope) is deprecated and will be removed in a future version.\n",
      "Instructions for updating:\n",
      "non-resource variables are not supported in the long term\n",
      "Started upload task with ID: 3CNHRNLF3OGNRWSLPACVUMSV\n",
      "2015-07-01 2015-09-30  starting!!...\n",
      "2015_3_11 effunet_demo_left2015_3_11\n",
      "Looking for TFRecord files...\n",
      "Running predictions...\n",
      "49/49 [==============================] - 69s 1s/step\n"
     ],
     "name": "stdout"
    },
    {
     "output_type": "stream",
     "text": [
      "100%|██████████| 49/49 [00:11<00:00,  4.28it/s]\n"
     ],
     "name": "stderr"
    },
    {
     "output_type": "stream",
     "text": [
      "WARNING:tensorflow:From /usr/local/lib/python3.7/dist-packages/tensorflow/python/compat/v2_compat.py:96: disable_resource_variables (from tensorflow.python.ops.variable_scope) is deprecated and will be removed in a future version.\n",
      "Instructions for updating:\n",
      "non-resource variables are not supported in the long term\n",
      "Started upload task with ID: EYPLSPY2JWX4RLYWTJOLWZ7N\n",
      "2015-10-01 2015-12-31  starting!!...\n",
      "2015_4_11 effunet_demo_left2015_4_11\n",
      "Looking for TFRecord files...\n",
      "Running predictions...\n",
      "49/49 [==============================] - 54s 1s/step\n"
     ],
     "name": "stdout"
    },
    {
     "output_type": "stream",
     "text": [
      "100%|██████████| 49/49 [00:11<00:00,  4.31it/s]\n"
     ],
     "name": "stderr"
    },
    {
     "output_type": "stream",
     "text": [
      "WARNING:tensorflow:From /usr/local/lib/python3.7/dist-packages/tensorflow/python/compat/v2_compat.py:96: disable_resource_variables (from tensorflow.python.ops.variable_scope) is deprecated and will be removed in a future version.\n",
      "Instructions for updating:\n",
      "non-resource variables are not supported in the long term\n",
      "Started upload task with ID: WSOVIACBCXKDMTEJ4B4SLZUF\n",
      "2016-01-01 2016-03-31  starting!!...\n",
      "2016_1_11 effunet_demo_left2016_1_11\n",
      "Looking for TFRecord files...\n",
      "Running predictions...\n",
      "49/49 [==============================] - 59s 1s/step\n"
     ],
     "name": "stdout"
    },
    {
     "output_type": "stream",
     "text": [
      "100%|██████████| 49/49 [00:11<00:00,  4.35it/s]\n"
     ],
     "name": "stderr"
    },
    {
     "output_type": "stream",
     "text": [
      "WARNING:tensorflow:From /usr/local/lib/python3.7/dist-packages/tensorflow/python/compat/v2_compat.py:96: disable_resource_variables (from tensorflow.python.ops.variable_scope) is deprecated and will be removed in a future version.\n",
      "Instructions for updating:\n",
      "non-resource variables are not supported in the long term\n",
      "Started upload task with ID: KAM3WD6E6VCHEK2Z3YPAEJIS\n",
      "2016-04-01 2016-06-30  starting!!...\n",
      "2016_2_11 effunet_demo_left2016_2_11\n",
      "Looking for TFRecord files...\n",
      "Running predictions...\n",
      "49/49 [==============================] - 59s 1s/step\n"
     ],
     "name": "stdout"
    },
    {
     "output_type": "stream",
     "text": [
      "100%|██████████| 49/49 [00:11<00:00,  4.34it/s]\n"
     ],
     "name": "stderr"
    },
    {
     "output_type": "stream",
     "text": [
      "WARNING:tensorflow:From /usr/local/lib/python3.7/dist-packages/tensorflow/python/compat/v2_compat.py:96: disable_resource_variables (from tensorflow.python.ops.variable_scope) is deprecated and will be removed in a future version.\n",
      "Instructions for updating:\n",
      "non-resource variables are not supported in the long term\n",
      "Started upload task with ID: T7RF27AFFHQK7WHSMHPLYXUM\n",
      "2016-07-01 2016-09-30  starting!!...\n",
      "2016_3_11 effunet_demo_left2016_3_11\n",
      "Looking for TFRecord files...\n",
      "Running predictions...\n",
      "49/49 [==============================] - 56s 1s/step\n"
     ],
     "name": "stdout"
    }
   ]
  }
 ]
}